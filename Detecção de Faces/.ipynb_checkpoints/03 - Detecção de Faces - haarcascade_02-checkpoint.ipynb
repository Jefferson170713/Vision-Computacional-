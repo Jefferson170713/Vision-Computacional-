{
 "cells": [
  {
   "cell_type": "code",
   "execution_count": 31,
   "id": "af6394b3",
   "metadata": {},
   "outputs": [],
   "source": [
    "import cv2"
   ]
  },
  {
   "cell_type": "code",
   "execution_count": 32,
   "id": "236a8495",
   "metadata": {},
   "outputs": [],
   "source": [
    "# Aqui o arquivo já treinando foi baixado diretamente da biblioteca OpenCV no github.\n",
    "# Baixado e colocado dentro de uma pasta nos meus arquivos.\n",
    "\n",
    "# link: 'https://github.com/opencv/opencv/tree/4.x/data/haarcascades'\n",
    "\n",
    "haarcascade = './Arquivos_haarcascades/haarcascade_frontalface_default.xml' "
   ]
  },
  {
   "cell_type": "code",
   "execution_count": 33,
   "id": "f5445633",
   "metadata": {},
   "outputs": [],
   "source": [
    "imagem = cv2.imread('./Fotos/foto_05.png')"
   ]
  },
  {
   "cell_type": "code",
   "execution_count": 30,
   "id": "0b8483c2",
   "metadata": {},
   "outputs": [
    {
     "data": {
      "text/plain": [
       "-1"
      ]
     },
     "execution_count": 30,
     "metadata": {},
     "output_type": "execute_result"
    }
   ],
   "source": [
    "cv2.imshow(\"Imagem 5\", imagem)\n",
    "cv2.waitKey(0)"
   ]
  },
  {
   "cell_type": "code",
   "execution_count": 34,
   "id": "3dbd0682",
   "metadata": {},
   "outputs": [],
   "source": [
    "# agora vamos passar para a escalar de corcinza.\n",
    "\n",
    "imagem_cinza = cv2.cvtColor(imagem, cv2.COLOR_BGR2GRAY)"
   ]
  },
  {
   "cell_type": "code",
   "execution_count": 19,
   "id": "ba5d5c6b",
   "metadata": {},
   "outputs": [],
   "source": [
    "# Ampliando o tamnho da imagem\n",
    "imagem_cinza = cv2.resize(imagem_cinza, (1200, 900))"
   ]
  },
  {
   "cell_type": "code",
   "execution_count": 35,
   "id": "8b9ed265",
   "metadata": {},
   "outputs": [
    {
     "data": {
      "text/plain": [
       "-1"
      ]
     },
     "execution_count": 35,
     "metadata": {},
     "output_type": "execute_result"
    }
   ],
   "source": [
    "cv2.imshow(\"Imagem 5\", imagem_cinza)\n",
    "cv2.waitKey(0)"
   ]
  },
  {
   "cell_type": "code",
   "execution_count": 20,
   "id": "410162cd",
   "metadata": {},
   "outputs": [],
   "source": [
    "detector_facial = cv2.CascadeClassifier(haarcascade)"
   ]
  },
  {
   "cell_type": "code",
   "execution_count": 36,
   "id": "948553ba",
   "metadata": {},
   "outputs": [],
   "source": [
    "deteccoes = detector_facial.detectMultiScale(imagem_cinza)"
   ]
  },
  {
   "cell_type": "code",
   "execution_count": 37,
   "id": "e7e36b32",
   "metadata": {},
   "outputs": [
    {
     "data": {
      "text/plain": [
       "3"
      ]
     },
     "execution_count": 37,
     "metadata": {},
     "output_type": "execute_result"
    }
   ],
   "source": [
    "len(deteccoes)"
   ]
  },
  {
   "cell_type": "code",
   "execution_count": 38,
   "id": "585160ac",
   "metadata": {},
   "outputs": [
    {
     "data": {
      "text/plain": [
       "array([[250, 250, 250, ..., 200, 200, 201],\n",
       "       [249, 249, 249, ..., 200, 200, 200],\n",
       "       [250, 250, 249, ..., 200, 200, 200],\n",
       "       ...,\n",
       "       [255, 255, 255, ..., 255, 255, 255],\n",
       "       [255, 255, 255, ..., 255, 255, 255],\n",
       "       [255, 255, 255, ..., 255, 255, 255]], dtype=uint8)"
      ]
     },
     "execution_count": 38,
     "metadata": {},
     "output_type": "execute_result"
    }
   ],
   "source": [
    "imagem_cinza"
   ]
  },
  {
   "cell_type": "code",
   "execution_count": 25,
   "id": "640c4f6a",
   "metadata": {},
   "outputs": [],
   "source": [
    "imagem = cv2.resize(imagem, (1200, 900))"
   ]
  },
  {
   "cell_type": "code",
   "execution_count": 39,
   "id": "9c1ddc0c",
   "metadata": {},
   "outputs": [
    {
     "ename": "error",
     "evalue": "OpenCV(4.7.0) :-1: error: (-5:Bad argument) in function 'imshow'\n> Overload resolution failed:\n>  - imshow() missing required argument 'mat' (pos 2)\n>  - imshow() missing required argument 'mat' (pos 2)\n>  - imshow() missing required argument 'mat' (pos 2)\n",
     "output_type": "error",
     "traceback": [
      "\u001b[1;31m---------------------------------------------------------------------------\u001b[0m",
      "\u001b[1;31merror\u001b[0m                                     Traceback (most recent call last)",
      "Input \u001b[1;32mIn [39]\u001b[0m, in \u001b[0;36m<cell line: 3>\u001b[1;34m()\u001b[0m\n\u001b[0;32m      1\u001b[0m \u001b[38;5;28;01mfor\u001b[39;00m x, y, w, h \u001b[38;5;129;01min\u001b[39;00m deteccoes:\n\u001b[0;32m      2\u001b[0m     cv2\u001b[38;5;241m.\u001b[39mrectangle(imagem, (x, y), (x \u001b[38;5;241m+\u001b[39m w, y \u001b[38;5;241m+\u001b[39m h), (\u001b[38;5;241m0\u001b[39m,\u001b[38;5;241m255\u001b[39m,\u001b[38;5;241m0\u001b[39m), \u001b[38;5;241m2\u001b[39m)\n\u001b[1;32m----> 3\u001b[0m \u001b[43mcv2\u001b[49m\u001b[38;5;241;43m.\u001b[39;49m\u001b[43mimshow\u001b[49m\u001b[43m(\u001b[49m\u001b[43mimagem\u001b[49m\u001b[43m)\u001b[49m\n\u001b[0;32m      4\u001b[0m cv2\u001b[38;5;241m.\u001b[39mwaitKey(\u001b[38;5;241m0\u001b[39m)\n",
      "\u001b[1;31merror\u001b[0m: OpenCV(4.7.0) :-1: error: (-5:Bad argument) in function 'imshow'\n> Overload resolution failed:\n>  - imshow() missing required argument 'mat' (pos 2)\n>  - imshow() missing required argument 'mat' (pos 2)\n>  - imshow() missing required argument 'mat' (pos 2)\n"
     ]
    }
   ],
   "source": [
    "for x, y, w, h in deteccoes:\n",
    "    cv2.rectangle(imagem, (x, y), (x + w, y + h), (0,255,0), 2)\n",
    "cv2.imshow(imagem)\n",
    "cv2.waitKey(0)"
   ]
  },
  {
   "cell_type": "code",
   "execution_count": null,
   "id": "489eaf17",
   "metadata": {},
   "outputs": [],
   "source": []
  }
 ],
 "metadata": {
  "kernelspec": {
   "display_name": "Python 3 (ipykernel)",
   "language": "python",
   "name": "python3"
  },
  "language_info": {
   "codemirror_mode": {
    "name": "ipython",
    "version": 3
   },
   "file_extension": ".py",
   "mimetype": "text/x-python",
   "name": "python",
   "nbconvert_exporter": "python",
   "pygments_lexer": "ipython3",
   "version": "3.9.12"
  }
 },
 "nbformat": 4,
 "nbformat_minor": 5
}
