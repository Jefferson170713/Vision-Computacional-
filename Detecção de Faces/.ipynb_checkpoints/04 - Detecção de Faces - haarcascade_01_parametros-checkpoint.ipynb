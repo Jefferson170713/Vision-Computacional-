{
 "cells": [
  {
   "cell_type": "code",
   "execution_count": 1,
   "id": "7bf554b8",
   "metadata": {},
   "outputs": [],
   "source": [
    "import cv2 # importando a biblioteca opencv"
   ]
  },
  {
   "cell_type": "code",
   "execution_count": 2,
   "id": "d2c29b08",
   "metadata": {},
   "outputs": [],
   "source": [
    "haarcascade = str # Atribuindo o arquivo baixado diretamente da biblioteca opencv do github com extensão .xml \n",
    "haarcascade = './Arquivos_haarcascades/haarcascade_frontalface_default.xml'"
   ]
  },
  {
   "cell_type": "code",
   "execution_count": 3,
   "id": "216451f8",
   "metadata": {},
   "outputs": [],
   "source": [
    "img = cv2.imread('./Fotos/foto_06.png') # leitura da imagem"
   ]
  },
  {
   "cell_type": "code",
   "execution_count": 4,
   "id": "e8219455",
   "metadata": {},
   "outputs": [],
   "source": [
    "img = cv2.resize(img, (800, 600))\n",
    "img_cinza = cv2.cvtColor(img, cv2.COLOR_BGR2GRAY) #transformação da imagem para a escala de cinza"
   ]
  },
  {
   "cell_type": "code",
   "execution_count": 5,
   "id": "b8208cd7",
   "metadata": {},
   "outputs": [],
   "source": [
    "detector = cv2.CascadeClassifier(haarcascade) # classificando o algoritmo já treinado haarcascade."
   ]
  },
  {
   "cell_type": "code",
   "execution_count": null,
   "id": "822efe19",
   "metadata": {},
   "outputs": [],
   "source": [
    "# mudando a escala de precisão do algoritmo que precisa ser maior que 1\n",
    "deteccao = detector.detectMultiScale(img_cinza, scaleFactor=1.001)"
   ]
  },
  {
   "cell_type": "code",
   "execution_count": null,
   "id": "37350019",
   "metadata": {},
   "outputs": [],
   "source": [
    "#img = cv2.resize(img, (700, 500)) # reduzindo o tamanho da imagem.\n",
    "for x, y, w, h in deteccao:\n",
    "    cv2.rectangle(img, (x, y), (x + w, y + h), (0,225,0), 2) # w = width de largura e h = height de altura\n",
    "    \n",
    "cv2.imshow(\"\", img) # para mostrar a imagem\n",
    "cv2.waitKey(0) # para mostrar a imagem enquanto visualizo.\n"
   ]
  },
  {
   "cell_type": "code",
   "execution_count": null,
   "id": "12f37d6a",
   "metadata": {},
   "outputs": [],
   "source": []
  },
  {
   "cell_type": "code",
   "execution_count": null,
   "id": "52ba089d",
   "metadata": {},
   "outputs": [],
   "source": []
  }
 ],
 "metadata": {
  "kernelspec": {
   "display_name": "Python 3 (ipykernel)",
   "language": "python",
   "name": "python3"
  },
  "language_info": {
   "codemirror_mode": {
    "name": "ipython",
    "version": 3
   },
   "file_extension": ".py",
   "mimetype": "text/x-python",
   "name": "python",
   "nbconvert_exporter": "python",
   "pygments_lexer": "ipython3",
   "version": "3.9.12"
  }
 },
 "nbformat": 4,
 "nbformat_minor": 5
}
