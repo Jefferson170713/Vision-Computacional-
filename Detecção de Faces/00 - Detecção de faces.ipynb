{
 "cells": [
  {
   "cell_type": "code",
   "execution_count": 63,
   "id": "e0e509b2",
   "metadata": {},
   "outputs": [],
   "source": [
    "import cv2 # openCV biblioteca"
   ]
  },
  {
   "cell_type": "code",
   "execution_count": 64,
   "id": "592e7854",
   "metadata": {},
   "outputs": [],
   "source": [
    "imagem = cv2.imread('./Fotos/foto_09.png') # Lendo o arquivo"
   ]
  },
  {
   "cell_type": "code",
   "execution_count": 65,
   "id": "bf9207c5",
   "metadata": {},
   "outputs": [
    {
     "data": {
      "text/plain": [
       "(1024, 1024, 3)"
      ]
     },
     "execution_count": 65,
     "metadata": {},
     "output_type": "execute_result"
    }
   ],
   "source": [
    "imagem.shape # mostrando o tamanho do arquivo e seus três canais"
   ]
  },
  {
   "cell_type": "code",
   "execution_count": 66,
   "id": "6094fc3c",
   "metadata": {},
   "outputs": [
    {
     "data": {
      "text/plain": [
       "-1"
      ]
     },
     "execution_count": 66,
     "metadata": {},
     "output_type": "execute_result"
    }
   ],
   "source": [
    "cv2.imshow(\"teste 1\", imagem) # mostrando a imagem \n",
    "cv2.waitKey(0) # mas sem o comando de baixo o python não funciona e ainda não sei o motivo."
   ]
  }
 ],
 "metadata": {
  "kernelspec": {
   "display_name": "Python 3 (ipykernel)",
   "language": "python",
   "name": "python3"
  },
  "language_info": {
   "codemirror_mode": {
    "name": "ipython",
    "version": 3
   },
   "file_extension": ".py",
   "mimetype": "text/x-python",
   "name": "python",
   "nbconvert_exporter": "python",
   "pygments_lexer": "ipython3",
   "version": "3.9.12"
  }
 },
 "nbformat": 4,
 "nbformat_minor": 5
}
