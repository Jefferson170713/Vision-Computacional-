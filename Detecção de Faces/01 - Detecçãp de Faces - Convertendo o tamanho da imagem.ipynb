{
 "cells": [
  {
   "cell_type": "code",
   "execution_count": 9,
   "id": "cbbfef63",
   "metadata": {},
   "outputs": [],
   "source": [
    "import cv2 # Impotando a biblioteca OpenCV"
   ]
  },
  {
   "cell_type": "code",
   "execution_count": 14,
   "id": "b223fa01",
   "metadata": {},
   "outputs": [],
   "source": [
    "im = cv2.imread('./Fotos/foto_01.png')# Fazedndo a leitura do arqueivo"
   ]
  },
  {
   "cell_type": "code",
   "execution_count": 15,
   "id": "7b781b45",
   "metadata": {},
   "outputs": [
    {
     "data": {
      "text/plain": [
       "(200, 300, 3)"
      ]
     },
     "execution_count": 15,
     "metadata": {},
     "output_type": "execute_result"
    }
   ],
   "source": [
    "im.shape # mostando o tamanho do corpo do arquivo"
   ]
  },
  {
   "cell_type": "code",
   "execution_count": 16,
   "id": "2929370b",
   "metadata": {},
   "outputs": [],
   "source": [
    "im = cv2.resize(im, (800,700)) # Ultilizando recursos da bibliotéca para redimencionar o tamanho da foto."
   ]
  },
  {
   "cell_type": "code",
   "execution_count": 17,
   "id": "b28bf478",
   "metadata": {},
   "outputs": [
    {
     "data": {
      "text/plain": [
       "(700, 800, 3)"
      ]
     },
     "execution_count": 17,
     "metadata": {},
     "output_type": "execute_result"
    }
   ],
   "source": [
    "im.shape"
   ]
  },
  {
   "cell_type": "code",
   "execution_count": 12,
   "id": "381a78d0",
   "metadata": {},
   "outputs": [
    {
     "data": {
      "text/plain": [
       "-1"
      ]
     },
     "execution_count": 12,
     "metadata": {},
     "output_type": "execute_result"
    }
   ],
   "source": [
    "cv2.imshow(\" Teste 1\",im) # MOstrando a imagem.\n",
    "cv2.waitKey(0) # Sem este comando o python não responde. ainda não sei o motivo."
   ]
  },
  {
   "cell_type": "code",
   "execution_count": null,
   "id": "18325870",
   "metadata": {},
   "outputs": [],
   "source": []
  },
  {
   "cell_type": "code",
   "execution_count": null,
   "id": "2767d814",
   "metadata": {},
   "outputs": [],
   "source": []
  },
  {
   "cell_type": "code",
   "execution_count": null,
   "id": "9a4f8bd4",
   "metadata": {},
   "outputs": [],
   "source": []
  }
 ],
 "metadata": {
  "kernelspec": {
   "display_name": "Python 3 (ipykernel)",
   "language": "python",
   "name": "python3"
  },
  "language_info": {
   "codemirror_mode": {
    "name": "ipython",
    "version": 3
   },
   "file_extension": ".py",
   "mimetype": "text/x-python",
   "name": "python",
   "nbconvert_exporter": "python",
   "pygments_lexer": "ipython3",
   "version": "3.9.12"
  }
 },
 "nbformat": 4,
 "nbformat_minor": 5
}
