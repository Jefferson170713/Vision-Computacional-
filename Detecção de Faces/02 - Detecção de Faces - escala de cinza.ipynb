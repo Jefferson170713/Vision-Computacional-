{
 "cells": [
  {
   "cell_type": "code",
   "execution_count": 1,
   "id": "84509929",
   "metadata": {},
   "outputs": [],
   "source": [
    "import cv2"
   ]
  },
  {
   "cell_type": "code",
   "execution_count": 4,
   "id": "c7536905",
   "metadata": {},
   "outputs": [],
   "source": [
    "im_cor_normal = cv2.imread('./Fotos/foto_03.png')"
   ]
  },
  {
   "cell_type": "code",
   "execution_count": 3,
   "id": "76c48aa8",
   "metadata": {},
   "outputs": [
    {
     "data": {
      "text/plain": [
       "-1"
      ]
     },
     "execution_count": 3,
     "metadata": {},
     "output_type": "execute_result"
    }
   ],
   "source": [
    "cv2.imshow('', im_cor_normal)\n",
    "cv2.waitKey(0)"
   ]
  },
  {
   "cell_type": "code",
   "execution_count": 5,
   "id": "4209d160",
   "metadata": {},
   "outputs": [],
   "source": [
    "im_cor_cinza = cv2.cvtColor(im_cor_normal, cv2.COLOR_BGR2GRAY) # Mudando a escala de cor"
   ]
  },
  {
   "cell_type": "code",
   "execution_count": 6,
   "id": "5cb69cb9",
   "metadata": {},
   "outputs": [],
   "source": [
    "im_cor_cinza = cv2.resize(im_cor_cinza, (800,600)) # mudando o tamanho da imagem"
   ]
  },
  {
   "cell_type": "code",
   "execution_count": 7,
   "id": "23a77c5a",
   "metadata": {},
   "outputs": [
    {
     "data": {
      "text/plain": [
       "-1"
      ]
     },
     "execution_count": 7,
     "metadata": {},
     "output_type": "execute_result"
    }
   ],
   "source": [
    "cv2.imshow('', im_cor_cinza)\n",
    "cv2.waitKey(0)"
   ]
  },
  {
   "cell_type": "code",
   "execution_count": 8,
   "id": "e7636488",
   "metadata": {},
   "outputs": [
    {
     "data": {
      "text/plain": [
       "-1"
      ]
     },
     "execution_count": 8,
     "metadata": {},
     "output_type": "execute_result"
    }
   ],
   "source": [
    "im_cor_BGR2HSV = cv2.cvtColor(im_cor_normal, cv2.COLOR_BGR2HSV) # com visão de calor\n",
    "\n",
    "cv2.imshow('', im_cor_BGR2HSV)\n",
    "cv2.waitKey(0)\n"
   ]
  },
  {
   "cell_type": "code",
   "execution_count": null,
   "id": "cef905c3",
   "metadata": {},
   "outputs": [],
   "source": []
  }
 ],
 "metadata": {
  "kernelspec": {
   "display_name": "Python 3 (ipykernel)",
   "language": "python",
   "name": "python3"
  },
  "language_info": {
   "codemirror_mode": {
    "name": "ipython",
    "version": 3
   },
   "file_extension": ".py",
   "mimetype": "text/x-python",
   "name": "python",
   "nbconvert_exporter": "python",
   "pygments_lexer": "ipython3",
   "version": "3.9.12"
  }
 },
 "nbformat": 4,
 "nbformat_minor": 5
}
