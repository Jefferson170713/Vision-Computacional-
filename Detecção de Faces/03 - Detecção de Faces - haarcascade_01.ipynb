{
 "cells": [
  {
   "cell_type": "code",
   "execution_count": 1,
   "id": "c15e3f93",
   "metadata": {},
   "outputs": [],
   "source": [
    "import cv2"
   ]
  },
  {
   "cell_type": "code",
   "execution_count": 2,
   "id": "f4120055",
   "metadata": {},
   "outputs": [],
   "source": [
    "cascade = './Arquivos_haarcascades/haarcascade_frontalface_default.xml'"
   ]
  },
  {
   "cell_type": "code",
   "execution_count": 3,
   "id": "d8d1934e",
   "metadata": {},
   "outputs": [],
   "source": [
    "im = cv2.imread('./Fotos/foto_04.png')"
   ]
  },
  {
   "cell_type": "code",
   "execution_count": 4,
   "id": "ca4d223e",
   "metadata": {},
   "outputs": [],
   "source": [
    "#im = cv2.resize(im, (900,700))"
   ]
  },
  {
   "cell_type": "code",
   "execution_count": 21,
   "id": "3426e9a9",
   "metadata": {},
   "outputs": [
    {
     "data": {
      "text/plain": [
       "-1"
      ]
     },
     "execution_count": 21,
     "metadata": {},
     "output_type": "execute_result"
    }
   ],
   "source": [
    "im = cv2.cvtColor(im, cv2.COLOR_BGR2GRAY)\n",
    "cv2.imshow(\"\", im)\n",
    "cv2.waitKey(0)"
   ]
  },
  {
   "cell_type": "code",
   "execution_count": 7,
   "id": "e8dab335",
   "metadata": {},
   "outputs": [
    {
     "data": {
      "text/plain": [
       "-1"
      ]
     },
     "execution_count": 7,
     "metadata": {},
     "output_type": "execute_result"
    }
   ],
   "source": [
    "i = im\n",
    "cv2.imshow(\"\", i)\n",
    "cv2.waitKey(0)"
   ]
  },
  {
   "cell_type": "code",
   "execution_count": 5,
   "id": "0f7ba68e",
   "metadata": {},
   "outputs": [],
   "source": [
    "detector_facial = cv2.CascadeClassifier(cascade)"
   ]
  },
  {
   "cell_type": "code",
   "execution_count": 6,
   "id": "849c776d",
   "metadata": {},
   "outputs": [],
   "source": [
    "deteccoes = detector_facial.detectMultiScale(im)"
   ]
  },
  {
   "cell_type": "code",
   "execution_count": 7,
   "id": "4c64bb44",
   "metadata": {
    "scrolled": true
   },
   "outputs": [
    {
     "data": {
      "text/plain": [
       "3"
      ]
     },
     "execution_count": 7,
     "metadata": {},
     "output_type": "execute_result"
    }
   ],
   "source": [
    "len(deteccoes)"
   ]
  },
  {
   "cell_type": "code",
   "execution_count": 8,
   "id": "3fd4e00f",
   "metadata": {},
   "outputs": [
    {
     "data": {
      "text/plain": [
       "array([[252,  34,  93,  93],\n",
       "       [346,  97,  81,  81],\n",
       "       [159,  58,  83,  83]])"
      ]
     },
     "execution_count": 8,
     "metadata": {},
     "output_type": "execute_result"
    }
   ],
   "source": [
    "deteccoes"
   ]
  },
  {
   "cell_type": "code",
   "execution_count": 9,
   "id": "8cc59b61",
   "metadata": {},
   "outputs": [
    {
     "name": "stdout",
     "output_type": "stream",
     "text": [
      "252 34 93 93\n",
      "346 97 81 81\n",
      "159 58 83 83\n"
     ]
    }
   ],
   "source": [
    "for x, y, w, h in deteccoes:\n",
    "    print(x, y, w, h)"
   ]
  },
  {
   "cell_type": "code",
   "execution_count": 12,
   "id": "36cc983b",
   "metadata": {},
   "outputs": [
    {
     "data": {
      "text/plain": [
       "-1"
      ]
     },
     "execution_count": 12,
     "metadata": {},
     "output_type": "execute_result"
    }
   ],
   "source": [
    "# Visualizando a imagem\n",
    "for x, y, w, h in deteccoes:\n",
    "    cv2.rectangle(im, (x, y), (x + w, y + h), (0,255,0), 2)\n",
    "cv2.imshow(\"\", im)\n",
    "cv2.waitKey(0)"
   ]
  },
  {
   "cell_type": "code",
   "execution_count": null,
   "id": "3aca0dda",
   "metadata": {},
   "outputs": [],
   "source": []
  }
 ],
 "metadata": {
  "kernelspec": {
   "display_name": "Python 3 (ipykernel)",
   "language": "python",
   "name": "python3"
  },
  "language_info": {
   "codemirror_mode": {
    "name": "ipython",
    "version": 3
   },
   "file_extension": ".py",
   "mimetype": "text/x-python",
   "name": "python",
   "nbconvert_exporter": "python",
   "pygments_lexer": "ipython3",
   "version": "3.9.12"
  }
 },
 "nbformat": 4,
 "nbformat_minor": 5
}
