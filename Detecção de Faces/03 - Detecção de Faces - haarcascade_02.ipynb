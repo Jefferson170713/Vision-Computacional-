{
 "cells": [
  {
   "cell_type": "code",
   "execution_count": 1,
   "id": "af6394b3",
   "metadata": {},
   "outputs": [],
   "source": [
    "import cv2"
   ]
  },
  {
   "cell_type": "code",
   "execution_count": 2,
   "id": "236a8495",
   "metadata": {},
   "outputs": [],
   "source": [
    "# Aqui o arquivo já treinando foi baixado diretamente da biblioteca OpenCV no github.\n",
    "# Baixado e colocado dentro de uma pasta nos meus arquivos.\n",
    "\n",
    "# link: 'https://github.com/opencv/opencv/tree/4.x/data/haarcascades'\n",
    "\n",
    "haarcascade = './Arquivos_haarcascades/haarcascade_frontalface_default.xml' "
   ]
  },
  {
   "cell_type": "code",
   "execution_count": 3,
   "id": "f5445633",
   "metadata": {},
   "outputs": [],
   "source": [
    "imagem = cv2.imread('./Fotos/foto_05.png')"
   ]
  },
  {
   "cell_type": "code",
   "execution_count": 4,
   "id": "0b8483c2",
   "metadata": {},
   "outputs": [
    {
     "data": {
      "text/plain": [
       "-1"
      ]
     },
     "execution_count": 4,
     "metadata": {},
     "output_type": "execute_result"
    }
   ],
   "source": [
    "cv2.imshow(\"Imagem 5\", imagem)\n",
    "cv2.waitKey(0)"
   ]
  },
  {
   "cell_type": "code",
   "execution_count": 5,
   "id": "3dbd0682",
   "metadata": {},
   "outputs": [],
   "source": [
    "# agora vamos passar para a escala de corcinza.\n",
    "\n",
    "imagem_cinza = cv2.cvtColor(imagem, cv2.COLOR_BGR2GRAY)"
   ]
  },
  {
   "cell_type": "code",
   "execution_count": 6,
   "id": "ba5d5c6b",
   "metadata": {},
   "outputs": [],
   "source": [
    "# Ampliando o tamnho da imagem\n",
    "imagem_cinza = cv2.resize(imagem_cinza, (1200, 900))"
   ]
  },
  {
   "cell_type": "code",
   "execution_count": null,
   "id": "8b9ed265",
   "metadata": {},
   "outputs": [],
   "source": [
    "cv2.imshow(\"Imagem 5\", imagem_cinza)\n",
    "cv2.waitKey(0)"
   ]
  },
  {
   "cell_type": "code",
   "execution_count": 7,
   "id": "410162cd",
   "metadata": {},
   "outputs": [],
   "source": [
    "detector_facial = cv2.CascadeClassifier(haarcascade)"
   ]
  },
  {
   "cell_type": "code",
   "execution_count": 8,
   "id": "948553ba",
   "metadata": {},
   "outputs": [],
   "source": [
    "deteccoes = detector_facial.detectMultiScale(imagem_cinza)"
   ]
  },
  {
   "cell_type": "code",
   "execution_count": 9,
   "id": "e7e36b32",
   "metadata": {},
   "outputs": [
    {
     "data": {
      "text/plain": [
       "2"
      ]
     },
     "execution_count": 9,
     "metadata": {},
     "output_type": "execute_result"
    }
   ],
   "source": [
    "len(deteccoes)"
   ]
  },
  {
   "cell_type": "code",
   "execution_count": 10,
   "id": "585160ac",
   "metadata": {},
   "outputs": [
    {
     "data": {
      "text/plain": [
       "array([[250, 250, 250, ..., 200, 201, 201],\n",
       "       [250, 250, 250, ..., 200, 201, 201],\n",
       "       [249, 249, 249, ..., 200, 200, 200],\n",
       "       ...,\n",
       "       [255, 255, 255, ..., 255, 255, 255],\n",
       "       [255, 255, 255, ..., 255, 255, 255],\n",
       "       [255, 255, 255, ..., 255, 255, 255]], dtype=uint8)"
      ]
     },
     "execution_count": 10,
     "metadata": {},
     "output_type": "execute_result"
    }
   ],
   "source": [
    "imagem_cinza"
   ]
  },
  {
   "cell_type": "code",
   "execution_count": 11,
   "id": "640c4f6a",
   "metadata": {},
   "outputs": [],
   "source": [
    "imagem = cv2.resize(imagem, (1200, 900))"
   ]
  },
  {
   "cell_type": "code",
   "execution_count": null,
   "id": "9c1ddc0c",
   "metadata": {},
   "outputs": [],
   "source": [
    "for x, y, w, h in deteccoes:\n",
    "    cv2.rectangle(imagem, (x, y), (x + w, y + h), (0,255,0), 2)\n",
    "cv2.imshow(\"\",imagem)\n",
    "cv2.waitKey(0)"
   ]
  },
  {
   "cell_type": "code",
   "execution_count": null,
   "id": "489eaf17",
   "metadata": {},
   "outputs": [],
   "source": []
  }
 ],
 "metadata": {
  "kernelspec": {
   "display_name": "Python 3 (ipykernel)",
   "language": "python",
   "name": "python3"
  },
  "language_info": {
   "codemirror_mode": {
    "name": "ipython",
    "version": 3
   },
   "file_extension": ".py",
   "mimetype": "text/x-python",
   "name": "python",
   "nbconvert_exporter": "python",
   "pygments_lexer": "ipython3",
   "version": "3.9.12"
  }
 },
 "nbformat": 4,
 "nbformat_minor": 5
}
