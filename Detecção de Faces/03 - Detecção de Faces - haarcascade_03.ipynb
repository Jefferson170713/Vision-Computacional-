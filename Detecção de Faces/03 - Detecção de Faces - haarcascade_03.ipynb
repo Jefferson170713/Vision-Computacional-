{
 "cells": [
  {
   "cell_type": "code",
   "execution_count": 1,
   "id": "19f334d4",
   "metadata": {},
   "outputs": [],
   "source": [
    "import cv2"
   ]
  },
  {
   "cell_type": "code",
   "execution_count": 2,
   "id": "c72af5cf",
   "metadata": {},
   "outputs": [],
   "source": [
    "haarcascade = \"./Arquivos_haarcascades/haarcascade_frontalface_default.xml\""
   ]
  },
  {
   "cell_type": "code",
   "execution_count": 3,
   "id": "1088817d",
   "metadata": {},
   "outputs": [],
   "source": [
    "im = cv2.imread('./Fotos/foto_01.png')"
   ]
  },
  {
   "cell_type": "code",
   "execution_count": null,
   "id": "133e063e",
   "metadata": {},
   "outputs": [],
   "source": [
    "cv2.imshow('Imagem 6', im)\n",
    "cv2.waitKey(0)"
   ]
  },
  {
   "cell_type": "code",
   "execution_count": 4,
   "id": "d3f04f7e",
   "metadata": {},
   "outputs": [],
   "source": [
    "im_c = cv2.cvtColor(im, cv2.COLOR_BGR2GRAY)"
   ]
  },
  {
   "cell_type": "code",
   "execution_count": 5,
   "id": "a41b487b",
   "metadata": {},
   "outputs": [],
   "source": [
    "detector_face = cv2.CascadeClassifier(haarcascade)"
   ]
  },
  {
   "cell_type": "code",
   "execution_count": 6,
   "id": "024af969",
   "metadata": {},
   "outputs": [],
   "source": [
    "deteccao = detector_face.detectMultiScale(im_c)"
   ]
  },
  {
   "cell_type": "code",
   "execution_count": 7,
   "id": "ba1560dc",
   "metadata": {},
   "outputs": [
    {
     "data": {
      "text/plain": [
       "5"
      ]
     },
     "execution_count": 7,
     "metadata": {},
     "output_type": "execute_result"
    }
   ],
   "source": [
    "#deteccao # Quantidade de faces encontradas\n",
    "len(deteccao)"
   ]
  },
  {
   "cell_type": "code",
   "execution_count": 8,
   "id": "9ddf0047",
   "metadata": {},
   "outputs": [],
   "source": [
    "def box(imagem):\n",
    "    for x, y, w, h in deteccao:\n",
    "        cv2.rectangle(imagem, (x, y), (x+w, y+h), (0,255,0), 2)\n",
    "    cv2.imshow(\"Imagem 6\", imagem)\n",
    "    cv2.waitKey(0)"
   ]
  },
  {
   "cell_type": "code",
   "execution_count": 9,
   "id": "79d16f92",
   "metadata": {},
   "outputs": [],
   "source": [
    "box(im)"
   ]
  },
  {
   "cell_type": "code",
   "execution_count": 10,
   "id": "cdde6da1",
   "metadata": {},
   "outputs": [],
   "source": [
    "im1 = cv2.imread('./Fotos/foto_01.png')\n",
    "im2= cv2.imread('./Fotos/foto_02.png')\n",
    "im3 = cv2.imread('./Fotos/foto_03.png')\n",
    "im4 = cv2.imread('./Fotos/foto_04.png')\n",
    "im5 = cv2.imread('./Fotos/foto_05.png')\n"
   ]
  },
  {
   "cell_type": "code",
   "execution_count": 14,
   "id": "3dca4903",
   "metadata": {},
   "outputs": [],
   "source": [
    "box(im1)"
   ]
  },
  {
   "cell_type": "code",
   "execution_count": null,
   "id": "5fc8df64",
   "metadata": {},
   "outputs": [],
   "source": []
  },
  {
   "cell_type": "code",
   "execution_count": null,
   "id": "61e66f1a",
   "metadata": {},
   "outputs": [],
   "source": []
  }
 ],
 "metadata": {
  "kernelspec": {
   "display_name": "Python 3 (ipykernel)",
   "language": "python",
   "name": "python3"
  },
  "language_info": {
   "codemirror_mode": {
    "name": "ipython",
    "version": 3
   },
   "file_extension": ".py",
   "mimetype": "text/x-python",
   "name": "python",
   "nbconvert_exporter": "python",
   "pygments_lexer": "ipython3",
   "version": "3.9.12"
  }
 },
 "nbformat": 4,
 "nbformat_minor": 5
}
