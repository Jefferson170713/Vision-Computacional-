{
 "cells": [
  {
   "cell_type": "code",
   "execution_count": 1,
   "id": "ac5c9fab",
   "metadata": {},
   "outputs": [],
   "source": [
    "import cv2"
   ]
  },
  {
   "cell_type": "code",
   "execution_count": 2,
   "id": "9c00f586",
   "metadata": {},
   "outputs": [],
   "source": [
    "haarcascade = './Arquivos_haarcascades/haarcascade_frontalface_default.xml'"
   ]
  },
  {
   "cell_type": "code",
   "execution_count": 3,
   "id": "a1146dcb",
   "metadata": {},
   "outputs": [],
   "source": [
    "img = cv2.imread('./Fotos/foto_10.png.jpg')"
   ]
  },
  {
   "cell_type": "code",
   "execution_count": 4,
   "id": "b3fed859",
   "metadata": {},
   "outputs": [],
   "source": [
    "i_c = cv2.cvtColor(img, cv2.COLOR_BGR2GRAY)"
   ]
  },
  {
   "cell_type": "code",
   "execution_count": 5,
   "id": "df456215",
   "metadata": {},
   "outputs": [],
   "source": [
    "detector = cv2.CascadeClassifier(haarcascade)"
   ]
  },
  {
   "cell_type": "code",
   "execution_count": 6,
   "id": "4783f565",
   "metadata": {},
   "outputs": [],
   "source": [
    "deteccao = detector.detectMultiScale(img)"
   ]
  },
  {
   "cell_type": "code",
   "execution_count": 7,
   "id": "0d88a0d9",
   "metadata": {},
   "outputs": [
    {
     "data": {
      "text/plain": [
       "array([[ 683,  241,   71,   71],\n",
       "       [ 394,  228,   76,   76],\n",
       "       [ 569,  254,   79,   79],\n",
       "       [ 376,  230,  118,  118],\n",
       "       [ 595,  107,   74,   74],\n",
       "       [ 830,  221,   69,   69],\n",
       "       [1176,  656,   40,   40],\n",
       "       [ 674,  454,   54,   54],\n",
       "       [1181,  687,   31,   31]])"
      ]
     },
     "execution_count": 7,
     "metadata": {},
     "output_type": "execute_result"
    }
   ],
   "source": [
    "deteccao"
   ]
  },
  {
   "cell_type": "code",
   "execution_count": 8,
   "id": "e7e74b6e",
   "metadata": {},
   "outputs": [
    {
     "data": {
      "text/plain": [
       "9"
      ]
     },
     "execution_count": 8,
     "metadata": {},
     "output_type": "execute_result"
    }
   ],
   "source": [
    "len(deteccao)"
   ]
  },
  {
   "cell_type": "code",
   "execution_count": 10,
   "id": "1b925729",
   "metadata": {},
   "outputs": [],
   "source": [
    "img = cv2.resize(img, (800, 600))"
   ]
  },
  {
   "cell_type": "code",
   "execution_count": 11,
   "id": "82befae2",
   "metadata": {},
   "outputs": [
    {
     "data": {
      "text/plain": [
       "-1"
      ]
     },
     "execution_count": 11,
     "metadata": {},
     "output_type": "execute_result"
    }
   ],
   "source": [
    "for x, y, w, h in deteccao:\n",
    "    cv2.rectangle(img, (x,y), (x+w, y+h), (0,255,0), 2)\n",
    "cv2.imshow(\"Imagem da galera\", img)\n",
    "cv2.waitKey(0)"
   ]
  },
  {
   "cell_type": "code",
   "execution_count": null,
   "id": "fa106140",
   "metadata": {},
   "outputs": [],
   "source": []
  },
  {
   "cell_type": "code",
   "execution_count": null,
   "id": "1b9e0dca",
   "metadata": {},
   "outputs": [],
   "source": []
  }
 ],
 "metadata": {
  "kernelspec": {
   "display_name": "Python 3 (ipykernel)",
   "language": "python",
   "name": "python3"
  },
  "language_info": {
   "codemirror_mode": {
    "name": "ipython",
    "version": 3
   },
   "file_extension": ".py",
   "mimetype": "text/x-python",
   "name": "python",
   "nbconvert_exporter": "python",
   "pygments_lexer": "ipython3",
   "version": "3.9.12"
  }
 },
 "nbformat": 4,
 "nbformat_minor": 5
}
