{
 "cells": [
  {
   "cell_type": "code",
   "execution_count": 18,
   "id": "60f6b3d1",
   "metadata": {},
   "outputs": [],
   "source": [
    "import cv2 # importando a biblioteca opencv"
   ]
  },
  {
   "cell_type": "code",
   "execution_count": 25,
   "id": "642958fd",
   "metadata": {},
   "outputs": [],
   "source": [
    "haarcascade_face = str # Atribuindo o arquivo baixado diretamente da biblioteca opencv do github com extensão .xml \n",
    "haarcascade_olhos = str\n",
    "haarcascade_face = './Arquivos_haarcascades/haarcascade_frontalface_default.xml'\n",
    "haarcascade_olhos = './Arquivos_haarcascades/haarcascade_eye.xml'"
   ]
  },
  {
   "cell_type": "code",
   "execution_count": 51,
   "id": "01f8c33a",
   "metadata": {},
   "outputs": [],
   "source": [
    "img = cv2.imread('./Fotos/foto_10.png.jpg') # leitura da imagem\n",
    "img = cv2.resize(img, (800, 600))"
   ]
  },
  {
   "cell_type": "code",
   "execution_count": 52,
   "id": "8444ad4c",
   "metadata": {},
   "outputs": [],
   "source": [
    "img_cinza = cv2.cvtColor(img, cv2.COLOR_BGR2GRAY) #transformação da imagem para a escala de cinza"
   ]
  },
  {
   "cell_type": "code",
   "execution_count": 53,
   "id": "aa92fa5f",
   "metadata": {},
   "outputs": [],
   "source": [
    "detector_face = cv2.CascadeClassifier(haarcascade_face)\n",
    "detector_olhos = cv2.CascadeClassifier(haarcascade_olhos)"
   ]
  },
  {
   "cell_type": "code",
   "execution_count": 54,
   "id": "84487872",
   "metadata": {},
   "outputs": [],
   "source": [
    "# mudando a escala de precisão do algoritmo que precisa ser maior que 1 e quanto maior, menor precisão\n",
    "deteccao1 = detector_face.detectMultiScale(img_cinza)\n",
    "deteccao2 = detector_olhos.detectMultiScale(img_cinza, scaleFactor=1.009, maxSize=(30,30))"
   ]
  },
  {
   "cell_type": "code",
   "execution_count": 55,
   "id": "960ed157",
   "metadata": {},
   "outputs": [
    {
     "data": {
      "text/plain": [
       "-1"
      ]
     },
     "execution_count": 55,
     "metadata": {},
     "output_type": "execute_result"
    }
   ],
   "source": [
    "for x, y, w, h in deteccao1:\n",
    "    cv2.rectangle(img, (x, y), (x + w, y + h), (0,225,0), 2) # w = width de largura e h = height de altura\n",
    "    \n",
    "for x, y, w, h in deteccao2:\n",
    "    cv2.rectangle(img, (x, y), (x + w, y + h), (0,0,255), 1) \n",
    "    \n",
    "cv2.imshow(\"\", img) # para mostrar a imagem\n",
    "cv2.waitKey(0) # para mostrar a imagem enquanto visualizo."
   ]
  },
  {
   "cell_type": "code",
   "execution_count": null,
   "id": "f78be907",
   "metadata": {},
   "outputs": [],
   "source": []
  },
  {
   "cell_type": "code",
   "execution_count": null,
   "id": "fe53725d",
   "metadata": {},
   "outputs": [],
   "source": []
  }
 ],
 "metadata": {
  "kernelspec": {
   "display_name": "Python 3 (ipykernel)",
   "language": "python",
   "name": "python3"
  },
  "language_info": {
   "codemirror_mode": {
    "name": "ipython",
    "version": 3
   },
   "file_extension": ".py",
   "mimetype": "text/x-python",
   "name": "python",
   "nbconvert_exporter": "python",
   "pygments_lexer": "ipython3",
   "version": "3.9.12"
  }
 },
 "nbformat": 4,
 "nbformat_minor": 5
}
