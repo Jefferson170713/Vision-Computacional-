{
 "cells": [
  {
   "cell_type": "code",
   "execution_count": 8,
   "id": "f07c373f",
   "metadata": {},
   "outputs": [],
   "source": [
    "import cv2 # importando a biblioteca opencv"
   ]
  },
  {
   "cell_type": "code",
   "execution_count": 9,
   "id": "f4d2d09f",
   "metadata": {},
   "outputs": [],
   "source": [
    "haarcascade = str # Atribuindo o arquivo baixado diretamente da biblioteca opencv do github com extensão .xml \n",
    "haarcascade = './Arquivos_haarcascades/haarcascade_frontalface_default.xml'"
   ]
  },
  {
   "cell_type": "code",
   "execution_count": 10,
   "id": "57579acc",
   "metadata": {},
   "outputs": [],
   "source": [
    "img = cv2.imread('./Fotos/foto_09.png') # leitura da imagem"
   ]
  },
  {
   "cell_type": "code",
   "execution_count": 11,
   "id": "fc36420d",
   "metadata": {},
   "outputs": [],
   "source": [
    "img_cinza = cv2.cvtColor(img, cv2.COLOR_BGR2GRAY) #transformação da imagem para a escala de cinza"
   ]
  },
  {
   "cell_type": "code",
   "execution_count": 12,
   "id": "de97e517",
   "metadata": {},
   "outputs": [],
   "source": [
    "detector = cv2.CascadeClassifier(haarcascade) # classificando o algoritmo já treinado haarcascade."
   ]
  },
  {
   "cell_type": "code",
   "execution_count": 13,
   "id": "2dc11c47",
   "metadata": {},
   "outputs": [],
   "source": [
    "# mudando a escala de precisão do algoritmo que precisa ser maior que 1\n",
    "deteccao = detector.detectMultiScale(img_cinza, scaleFactor=1.5) "
   ]
  },
  {
   "cell_type": "code",
   "execution_count": 14,
   "id": "9c7bc67f",
   "metadata": {},
   "outputs": [
    {
     "data": {
      "text/plain": [
       "-1"
      ]
     },
     "execution_count": 14,
     "metadata": {},
     "output_type": "execute_result"
    }
   ],
   "source": [
    "#img = cv2.resize(img, (700, 500)) # reduzindo o tamanho da imagem.\n",
    "\n",
    "for x, y, w, h in deteccao:\n",
    "    cv2.rectangle(img, (x, y), (x + w, y + h), (0,225,0), 2) # w = width de largura e h = height de altura\n",
    "    \n",
    "cv2.imshow(\"\", img) # para mostrar a imagem\n",
    "cv2.waitKey(0) # para mostrar a imagem enquanto visualizo."
   ]
  },
  {
   "cell_type": "code",
   "execution_count": null,
   "id": "328726af",
   "metadata": {},
   "outputs": [],
   "source": []
  }
 ],
 "metadata": {
  "kernelspec": {
   "display_name": "Python 3 (ipykernel)",
   "language": "python",
   "name": "python3"
  },
  "language_info": {
   "codemirror_mode": {
    "name": "ipython",
    "version": 3
   },
   "file_extension": ".py",
   "mimetype": "text/x-python",
   "name": "python",
   "nbconvert_exporter": "python",
   "pygments_lexer": "ipython3",
   "version": "3.9.12"
  }
 },
 "nbformat": 4,
 "nbformat_minor": 5
}
