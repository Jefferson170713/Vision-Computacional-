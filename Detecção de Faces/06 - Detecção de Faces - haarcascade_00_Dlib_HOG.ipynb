{
 "cells": [
  {
   "cell_type": "code",
   "execution_count": 2,
   "metadata": {},
   "outputs": [],
   "source": [
    "import cv2\n",
    "import dlib"
   ]
  },
  {
   "cell_type": "code",
   "execution_count": 3,
   "metadata": {},
   "outputs": [],
   "source": [
    "cascede = \"./Arquivos_haarcascades/haarcascade_frontalface_default.xml\"\n",
    "\n",
    "img = cv2.imread(\"./Fotos/foto_06.png\")"
   ]
  },
  {
   "cell_type": "code",
   "execution_count": 49,
   "metadata": {},
   "outputs": [
    {
     "data": {
      "text/plain": [
       "-1"
      ]
     },
     "execution_count": 49,
     "metadata": {},
     "output_type": "execute_result"
    }
   ],
   "source": [
    "cv2.imshow(\"\", img)\n",
    "cv2.waitKey(0)"
   ]
  },
  {
   "cell_type": "code",
   "execution_count": 4,
   "metadata": {},
   "outputs": [],
   "source": [
    "detector_face_hog = dlib.get_frontal_face_detector()"
   ]
  },
  {
   "cell_type": "code",
   "execution_count": 5,
   "metadata": {},
   "outputs": [],
   "source": [
    "deteccoes = detector_face_hog(img, 3) # Aí ele considera a imagem original."
   ]
  },
  {
   "attachments": {},
   "cell_type": "markdown",
   "metadata": {},
   "source": [
    "Na célula de cima é necessário passar um parâmetro para detectar a escala da imagem."
   ]
  },
  {
   "cell_type": "code",
   "execution_count": 6,
   "metadata": {},
   "outputs": [
    {
     "data": {
      "text/plain": [
       "(rectangles[[(1080, 286) (1119, 324)], [(646, 204) (685, 243)], [(781, 230) (827, 276)], [(719, 286) (758, 324)], [(233, 221) (272, 260)], [(384, 225) (430, 271)], [(1072, 217) (1110, 256)], [(917, 307) (956, 346)], [(115, 266) (162, 312)], [(270, 245) (317, 292)], [(843, 281) (889, 328)], [(728, 204) (766, 243)], [(186, 256) (225, 294)], [(342, 292) (389, 338)], [(573, 286) (612, 324)], [(224, 302) (270, 348)], [(1171, 286) (1209, 324)], [(1132, 256) (1171, 294)], [(992, 271) (1039, 317)], [(497, 204) (544, 250)], [(1166, 226) (1205, 264)], [(1024, 221) (1063, 260)], [(466, 266) (513, 312)], [(817, 194) (864, 240)], [(337, 194) (384, 240)], [(889, 235) (936, 281)], [(939, 216) (972, 249)]],\n",
       " 27)"
      ]
     },
     "execution_count": 6,
     "metadata": {},
     "output_type": "execute_result"
    }
   ],
   "source": [
    "deteccoes, len(deteccoes)"
   ]
  },
  {
   "attachments": {},
   "cell_type": "markdown",
   "metadata": {},
   "source": [
    "Faremos um for para visualizar a quantidade de detecções."
   ]
  },
  {
   "cell_type": "code",
   "execution_count": 7,
   "metadata": {},
   "outputs": [
    {
     "name": "stdout",
     "output_type": "stream",
     "text": [
      "1 [(1080, 286) (1119, 324)]\n",
      "2 [(646, 204) (685, 243)]\n",
      "3 [(781, 230) (827, 276)]\n",
      "4 [(719, 286) (758, 324)]\n",
      "5 [(233, 221) (272, 260)]\n",
      "6 [(384, 225) (430, 271)]\n",
      "7 [(1072, 217) (1110, 256)]\n",
      "8 [(917, 307) (956, 346)]\n",
      "9 [(115, 266) (162, 312)]\n",
      "10 [(270, 245) (317, 292)]\n",
      "11 [(843, 281) (889, 328)]\n",
      "12 [(728, 204) (766, 243)]\n",
      "13 [(186, 256) (225, 294)]\n",
      "14 [(342, 292) (389, 338)]\n",
      "15 [(573, 286) (612, 324)]\n",
      "16 [(224, 302) (270, 348)]\n",
      "17 [(1171, 286) (1209, 324)]\n",
      "18 [(1132, 256) (1171, 294)]\n",
      "19 [(992, 271) (1039, 317)]\n",
      "20 [(497, 204) (544, 250)]\n",
      "21 [(1166, 226) (1205, 264)]\n",
      "22 [(1024, 221) (1063, 260)]\n",
      "23 [(466, 266) (513, 312)]\n",
      "24 [(817, 194) (864, 240)]\n",
      "25 [(337, 194) (384, 240)]\n",
      "26 [(889, 235) (936, 281)]\n",
      "27 [(939, 216) (972, 249)]\n"
     ]
    }
   ],
   "source": [
    "for n, i in enumerate(deteccoes):\n",
    "    print(n+1, i)"
   ]
  },
  {
   "attachments": {},
   "cell_type": "markdown",
   "metadata": {},
   "source": [
    "Repare que foi detectado 27 imagens. \n",
    "\n",
    "\n"
   ]
  },
  {
   "attachments": {},
   "cell_type": "markdown",
   "metadata": {},
   "source": [
    "# Nota 1\n",
    "    Diferente do OpenCv, não é necessário fazer a conversão para a escala de cinza.\n",
    "    A forma de desenhar os retângulos nas faces é um pouco diferente, vamos aos processos,\n",
    "    de desenhar os detectores."
   ]
  },
  {
   "attachments": {},
   "cell_type": "markdown",
   "metadata": {},
   "source": [
    "Na função for, das os valores de onde foram encontradas as faces e o tamanho dos rectangulos."
   ]
  },
  {
   "cell_type": "code",
   "execution_count": 24,
   "metadata": {},
   "outputs": [
    {
     "name": "stdout",
     "output_type": "stream",
     "text": [
      "[(356, 108) (418, 170)]\n",
      "356\n",
      "108\n",
      "418\n",
      "170\n",
      "[(162, 63) (237, 138)]\n",
      "162\n",
      "63\n",
      "237\n",
      "138\n",
      "[(262, 47) (337, 121)]\n",
      "262\n",
      "47\n",
      "337\n",
      "121\n"
     ]
    }
   ],
   "source": [
    "for face in deteccoes:\n",
    "    print(face)\n",
    "    print(face.left())\n",
    "    print(face.top())\n",
    "    print(face.right())\n",
    "    print(face.bottom())   \n",
    "    "
   ]
  },
  {
   "cell_type": "code",
   "execution_count": 9,
   "metadata": {},
   "outputs": [
    {
     "data": {
      "text/plain": [
       "-1"
      ]
     },
     "execution_count": 9,
     "metadata": {},
     "output_type": "execute_result"
    }
   ],
   "source": [
    "for face in deteccoes:\n",
    "    l, t, r, b = face.left(), face.top(), face.right(), face.bottom()\n",
    "    cv2.rectangle(img, (l, t), (r, b), (0, 255,0), 2)\n",
    "cv2.imshow(\"Imagem com detecções\", img)\n",
    "cv2.waitKey(0)"
   ]
  },
  {
   "cell_type": "code",
   "execution_count": null,
   "metadata": {},
   "outputs": [],
   "source": []
  }
 ],
 "metadata": {
  "kernelspec": {
   "display_name": "Python 3",
   "language": "python",
   "name": "python3"
  },
  "language_info": {
   "codemirror_mode": {
    "name": "ipython",
    "version": 3
   },
   "file_extension": ".py",
   "mimetype": "text/x-python",
   "name": "python",
   "nbconvert_exporter": "python",
   "pygments_lexer": "ipython3",
   "version": "3.10.6"
  },
  "orig_nbformat": 4,
  "vscode": {
   "interpreter": {
    "hash": "b851c6745ff1dab273f145dc725d17dcd583f1245e0db80ec36cb955d38d940a"
   }
  }
 },
 "nbformat": 4,
 "nbformat_minor": 2
}
