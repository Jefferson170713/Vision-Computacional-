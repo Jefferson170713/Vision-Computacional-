{
 "cells": [
  {
   "cell_type": "code",
   "execution_count": 7,
   "metadata": {},
   "outputs": [],
   "source": [
    "import os\n",
    "import cv2\n",
    "import numpy as np\n",
    "from PIL import Image"
   ]
  },
  {
   "cell_type": "code",
   "execution_count": 2,
   "metadata": {},
   "outputs": [],
   "source": [
    "def reconhecedor_testes():\n",
    "    \n",
    "    paths = [os.path.join('./New_DB/yalefaces/test/', p) for p in os.listdir('./New_DB/yalefaces/test/')]\n",
    "    faces =[]\n",
    "    ids = []\n",
    "    \n",
    "    for path in paths:\n",
    "        imagem = Image.open(path).convert('L')\n",
    "        image_np = np.array(imagem, 'uint8')\n",
    "        \n",
    "        id = int(os.path.split(path)[1].split('.')[0].replace('subject',''))\n",
    "        ids.append(id)\n",
    "        faces.append(image_np)\n",
    "    \n",
    "    return np.array(id), faces"
   ]
  },
  {
   "cell_type": "code",
   "execution_count": 3,
   "metadata": {},
   "outputs": [],
   "source": [
    "id, face = reconhecedor_testes()"
   ]
  },
  {
   "cell_type": "code",
   "execution_count": 10,
   "metadata": {},
   "outputs": [],
   "source": [
    "def mostrar_previsao(faces_np):\n",
    "    \n",
    "    lbph_classifier_fotos = cv2.face.LBPHRecognizer_create() #cv2.face.LBPHFaceRecognizer_create()\n",
    "    lbph_classifier_fotos.read('./lbph_classifier.yml')\n",
    "    \n",
    "    previsoes = []\n",
    "    \n",
    "    for foto in faces_np:\n",
    "        predict = lbph_classifier_fotos.predict(foto)\n",
    "        previsoes.append(predict)\n",
    "        #preciso colocar uma função que pegue todos as imagens.\n",
    "    \n",
    "    return previsoes"
   ]
  },
  {
   "cell_type": "code",
   "execution_count": 11,
   "metadata": {},
   "outputs": [],
   "source": [
    "def mostrar_valores(mostrar):\n",
    "    \n",
    "    for p, q in mostrar:\n",
    "        if q > 30:\n",
    "            print(p, q)\n",
    "            cv2_imshow(q)\n",
    "   \n",
    "    \n",
    "    #for n, p in enumerate(mostrar):\n",
    "       # print(f'{n+1} : {p}')"
   ]
  },
  {
   "cell_type": "code",
   "execution_count": 8,
   "metadata": {},
   "outputs": [
    {
     "ename": "AttributeError",
     "evalue": "module 'cv2' has no attribute 'face'",
     "output_type": "error",
     "traceback": [
      "\u001b[1;31m---------------------------------------------------------------------------\u001b[0m",
      "\u001b[1;31mAttributeError\u001b[0m                            Traceback (most recent call last)",
      "Cell \u001b[1;32mIn[8], line 1\u001b[0m\n\u001b[1;32m----> 1\u001b[0m predicts \u001b[38;5;241m=\u001b[39m \u001b[43mmostrar_previsao\u001b[49m\u001b[43m(\u001b[49m\u001b[43mface\u001b[49m\u001b[43m)\u001b[49m\n",
      "Cell \u001b[1;32mIn[4], line 3\u001b[0m, in \u001b[0;36mmostrar_previsao\u001b[1;34m(faces_np)\u001b[0m\n\u001b[0;32m      1\u001b[0m \u001b[38;5;28;01mdef\u001b[39;00m \u001b[38;5;21mmostrar_previsao\u001b[39m(faces_np):\n\u001b[1;32m----> 3\u001b[0m     lbph_classifier_fotos \u001b[38;5;241m=\u001b[39m \u001b[43mcv2\u001b[49m\u001b[38;5;241;43m.\u001b[39;49m\u001b[43mface\u001b[49m\u001b[38;5;241m.\u001b[39mLBPHFaceRecognizer_create()\n\u001b[0;32m      4\u001b[0m     lbph_classifier_fotos\u001b[38;5;241m.\u001b[39mread(\u001b[38;5;124m'\u001b[39m\u001b[38;5;124m./lbph_classifier.yml\u001b[39m\u001b[38;5;124m'\u001b[39m)\n\u001b[0;32m      6\u001b[0m     previsoes \u001b[38;5;241m=\u001b[39m []\n",
      "\u001b[1;31mAttributeError\u001b[0m: module 'cv2' has no attribute 'face'"
     ]
    }
   ],
   "source": [
    "predicts = mostrar_previsao(face)"
   ]
  },
  {
   "cell_type": "code",
   "execution_count": 9,
   "metadata": {},
   "outputs": [
    {
     "ename": "NameError",
     "evalue": "name 'predicts' is not defined",
     "output_type": "error",
     "traceback": [
      "\u001b[1;31m---------------------------------------------------------------------------\u001b[0m",
      "\u001b[1;31mNameError\u001b[0m                                 Traceback (most recent call last)",
      "Cell \u001b[1;32mIn[9], line 1\u001b[0m\n\u001b[1;32m----> 1\u001b[0m mostrar_valores(\u001b[43mpredicts\u001b[49m)\n",
      "\u001b[1;31mNameError\u001b[0m: name 'predicts' is not defined"
     ]
    }
   ],
   "source": [
    "mostrar_valores(predicts)"
   ]
  },
  {
   "cell_type": "code",
   "execution_count": null,
   "metadata": {},
   "outputs": [],
   "source": []
  },
  {
   "cell_type": "code",
   "execution_count": null,
   "metadata": {},
   "outputs": [],
   "source": []
  }
 ],
 "metadata": {
  "kernelspec": {
   "display_name": "Python 3 (ipykernel)",
   "language": "python",
   "name": "python3"
  },
  "language_info": {
   "codemirror_mode": {
    "name": "ipython",
    "version": 3
   },
   "file_extension": ".py",
   "mimetype": "text/x-python",
   "name": "python",
   "nbconvert_exporter": "python",
   "pygments_lexer": "ipython3",
   "version": "3.9.16"
  }
 },
 "nbformat": 4,
 "nbformat_minor": 2
}
