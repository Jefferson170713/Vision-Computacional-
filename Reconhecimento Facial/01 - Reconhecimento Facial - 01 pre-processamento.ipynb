{
 "cells": [
  {
   "attachments": {},
   "cell_type": "markdown",
   "metadata": {},
   "source": [
    "### 1.0 - Bibliotecas usadas."
   ]
  },
  {
   "cell_type": "code",
   "execution_count": 1,
   "metadata": {},
   "outputs": [],
   "source": [
    "import os\n",
    "import numpy as np\n",
    "from PIL import Image\n",
    "import cv2"
   ]
  },
  {
   "attachments": {},
   "cell_type": "markdown",
   "metadata": {},
   "source": [
    "### 1.2\n",
    "    Podemos ver os caminhos de todos os arquivos (que são imagens) que iremos usar."
   ]
  },
  {
   "cell_type": "code",
   "execution_count": 2,
   "metadata": {},
   "outputs": [
    {
     "name": "stdout",
     "output_type": "stream",
     "text": [
      "['subject01.glasses.gif', 'subject01.leftlight.gif', 'subject01.noglasses.gif', 'subject01.normal.gif', 'subject01.rightlight.gif', 'subject01.sad.gif', 'subject01.sleepy.gif', 'subject01.surprised.gif', 'subject01.wink.gif', 'subject02.glasses.gif', 'subject02.happy.gif', 'subject02.noglasses.gif', 'subject02.normal.gif', 'subject02.rightlight.gif', 'subject02.sad.gif', 'subject02.sleepy.gif', 'subject02.surprised.gif', 'subject02.wink.gif', 'subject03.centerlight.gif', 'subject03.happy.gif', 'subject03.noglasses.gif', 'subject03.normal.gif', 'subject03.rightlight.gif', 'subject03.sad.gif', 'subject03.sleepy.gif', 'subject03.surprised.gif', 'subject03.wink.gif', 'subject04.centerlight.gif', 'subject04.glasses.gif', 'subject04.happy.gif', 'subject04.noglasses.gif', 'subject04.normal.gif', 'subject04.rightlight.gif', 'subject04.sad.gif', 'subject04.sleepy.gif', 'subject04.wink.gif', 'subject05.centerlight.gif', 'subject05.glasses.gif', 'subject05.happy.gif', 'subject05.leftlight.gif', 'subject05.noglasses.gif', 'subject05.normal.gif', 'subject05.rightlight.gif', 'subject05.sad.gif', 'subject05.wink.gif', 'subject06.centerlight.gif', 'subject06.glasses.gif', 'subject06.noglasses.gif', 'subject06.normal.gif', 'subject06.rightlight.gif', 'subject06.sad.gif', 'subject06.sleepy.gif', 'subject06.surprised.gif', 'subject06.wink.gif', 'subject07.centerlight.gif', 'subject07.glasses.gif', 'subject07.noglasses.gif', 'subject07.normal.gif', 'subject07.rightlight.gif', 'subject07.sad.gif', 'subject07.sleepy.gif', 'subject07.surprised.gif', 'subject07.wink.gif', 'subject08.centerlight.gif', 'subject08.glasses.gif', 'subject08.happy.gif', 'subject08.leftlight.gif', 'subject08.noglasses.gif', 'subject08.sad.gif', 'subject08.sleepy.gif', 'subject08.surprised.gif', 'subject08.wink.gif', 'subject09.centerlight.gif', 'subject09.glasses.gif', 'subject09.happy.gif', 'subject09.leftlight.gif', 'subject09.noglasses.gif', 'subject09.normal.gif', 'subject09.sleepy.gif', 'subject09.surprised.gif', 'subject09.wink.gif', 'subject10.glasses.gif', 'subject10.happy.gif', 'subject10.leftlight.gif', 'subject10.noglasses.gif', 'subject10.normal.gif', 'subject10.rightlight.gif', 'subject10.sleepy.gif', 'subject10.surprised.gif', 'subject10.wink.gif', 'subject11.centerlight.gif', 'subject11.leftlight.gif', 'subject11.noglasses.gif', 'subject11.normal.gif', 'subject11.rightlight.gif', 'subject11.sad.gif', 'subject11.sleepy.gif', 'subject11.surprised.gif', 'subject11.wink.gif', 'subject12.centerlight.gif', 'subject12.glasses.gif', 'subject12.happy.gif', 'subject12.leftlight.gif', 'subject12.noglasses.gif', 'subject12.sad.gif', 'subject12.sleepy.gif', 'subject12.surprised.gif', 'subject12.wink.gif', 'subject13.centerlight.gif', 'subject13.glasses.gif', 'subject13.happy.gif', 'subject13.leftlight.gif', 'subject13.noglasses.gif', 'subject13.normal.gif', 'subject13.rightlight.gif', 'subject13.surprised.gif', 'subject13.wink.gif', 'subject14.centerlight.gif', 'subject14.glasses.gif', 'subject14.happy.gif', 'subject14.leftlight.gif', 'subject14.noglasses.gif', 'subject14.rightlight.gif', 'subject14.sleepy.gif', 'subject14.surprised.gif', 'subject14.wink.gif', 'subject15.centerlight.gif', 'subject15.glasses.gif', 'subject15.happy.gif', 'subject15.leftlight.gif', 'subject15.noglasses.gif', 'subject15.normal.gif', 'subject15.sleepy.gif', 'subject15.surprised.gif', 'subject15.wink.gif']\n"
     ]
    }
   ],
   "source": [
    "print(os.listdir('./New_DB/yalefaces/train/'))"
   ]
  },
  {
   "cell_type": "code",
   "execution_count": 78,
   "metadata": {},
   "outputs": [],
   "source": [
    "def get_image_data():\n",
    "    paths = [os.path.join('./New_DB/yalefaces/train/', p) for p in os.listdir('./New_DB/yalefaces/train/')]  \n",
    "    faces = []\n",
    "    ids = []\n",
    "    for paht in paths:\n",
    "        #print(paht) # 1 - Para mostrar os caminhos.\n",
    "        imagem = Image.open(paht).convert('L') # OBS: Convertendo a imagem para a escala de cinza.\n",
    "        #print(type(imagem)) # 2 - Para mostrar os caminhos convertidos em imagem agora.\n",
    "        imagem_np = np.array(imagem, 'uint8') #OBS: Convertendo para um npArray de inteiros.\n",
    "        #print(type(imagem_np)) # 3 - Imagem convertidas em um array numpy - números\n",
    "        #print(os.path.split(paht)[1]) # 4.1 - Primeira parte da extração do número id para \n",
    "        # associar o caminho a imagem\n",
    "        #print(os.path.split(paht)[1].split('.')[0].split()) # 4.3 Mostrando como separar por nome.\n",
    "        #print(os.path.split(paht)[1]) # 4.2 - Mesma coisa de cima, com apenas uma etapa a mais de extração.\n",
    "        id = int(os.path.split(paht)[1].split('.')[0].replace('subject', ''))\n",
    "        #print(id) # 5 - para mostrar a extrão do número id.\n",
    "        ids.append(id) # 6 - Para assoscia o id a imagem.\n",
    "        faces.append(imagem_np) # 7 - Imagem como forma de numpy array.\n",
    "    return np.array(ids), faces"
   ]
  },
  {
   "attachments": {},
   "cell_type": "markdown",
   "metadata": {},
   "source": [
    "#### 2.0 - Pegando os dados das imagens preprocessadas.\n",
    "    - 1 Agora para cada imagem, tem um id de identificação.\n",
    "    - 2 Agora toda imagem já associada é um Numpy Array."
   ]
  },
  {
   "cell_type": "code",
   "execution_count": 79,
   "metadata": {},
   "outputs": [],
   "source": [
    "ids, faces = get_image_data()"
   ]
  },
  {
   "attachments": {},
   "cell_type": "markdown",
   "metadata": {},
   "source": [
    "### 2.1 - Agora vamos verificar os parâmetros até aqui."
   ]
  },
  {
   "cell_type": "code",
   "execution_count": 80,
   "metadata": {},
   "outputs": [
    {
     "name": "stdout",
     "output_type": "stream",
     "text": [
      "135\n",
      "135\n"
     ]
    }
   ],
   "source": [
    "print(len(ids))\n",
    "print(len(faces))\n"
   ]
  },
  {
   "attachments": {},
   "cell_type": "markdown",
   "metadata": {},
   "source": [
    "#### 2.1.0\n",
    "    - Temos 135 imagens de treino."
   ]
  },
  {
   "cell_type": "code",
   "execution_count": 81,
   "metadata": {},
   "outputs": [
    {
     "name": "stdout",
     "output_type": "stream",
     "text": [
      "[[130 130 130 ... 255 255 255]\n",
      " [255 255 255 ... 255 255 255]\n",
      " [255 255 255 ... 255 255 255]\n",
      " ...\n",
      " [255 255 255 ... 252 255 255]\n",
      " [255 255 255 ... 255 255 255]\n",
      " [ 68  68  68 ...  68  68  68]]\n",
      "****************************************************************************************************\n",
      "Tamanho da imagem -  (243, 320)\n",
      "****************************************************************************************************\n",
      "Quantidade de Pixels de uma única imagem -  77760\n"
     ]
    }
   ],
   "source": [
    "print(faces[0])\n",
    "print(100*'*')\n",
    "print('Tamanho da imagem - ',faces[0].shape)\n",
    "a, b = faces[0].shape\n",
    "print(100*'*')\n",
    "print('Quantidade de Pixels de uma única imagem - ', a*b)"
   ]
  },
  {
   "attachments": {},
   "cell_type": "markdown",
   "metadata": {},
   "source": [
    "### 2.1.1 - Com a função abaixo podemos ver a quantidade de pixels de cada imagem.\n",
    "    - Obs: lembrando que só dar este valor a primeira imagem de 77760, porque está em escala de cinza.\n",
    "    - Se não estivesse, seria x * y * z, onde z seria mais um número da escala de cores RGB."
   ]
  },
  {
   "cell_type": "code",
   "execution_count": 82,
   "metadata": {},
   "outputs": [
    {
     "name": "stdout",
     "output_type": "stream",
     "text": [
      "1 -  77760\n",
      "2 -  77760\n",
      "3 -  77760\n",
      "4 -  77760\n",
      "5 -  77760\n",
      "6 -  77760\n",
      "7 -  77760\n",
      "8 -  77760\n",
      "9 -  77760\n",
      "10 -  77760\n",
      "11 -  77760\n",
      "12 -  77760\n",
      "13 -  77760\n",
      "14 -  77760\n",
      "15 -  77760\n",
      "16 -  77760\n",
      "17 -  77760\n",
      "18 -  77760\n",
      "19 -  77760\n",
      "20 -  77760\n",
      "21 -  77760\n",
      "22 -  77760\n",
      "23 -  77760\n",
      "24 -  77760\n",
      "25 -  77760\n",
      "26 -  77760\n",
      "27 -  77760\n",
      "28 -  77760\n",
      "29 -  77760\n",
      "30 -  77760\n",
      "31 -  77760\n",
      "32 -  77760\n",
      "33 -  77760\n",
      "34 -  77760\n",
      "35 -  77760\n",
      "36 -  77760\n",
      "37 -  77760\n",
      "38 -  77760\n",
      "39 -  77760\n",
      "40 -  77760\n",
      "41 -  77760\n",
      "42 -  77760\n",
      "43 -  77760\n",
      "44 -  77760\n",
      "45 -  77760\n",
      "46 -  77760\n",
      "47 -  77760\n",
      "48 -  77760\n",
      "49 -  77760\n",
      "50 -  77760\n",
      "51 -  77760\n",
      "52 -  77760\n",
      "53 -  77760\n",
      "54 -  77760\n",
      "55 -  77760\n",
      "56 -  77760\n",
      "57 -  77760\n",
      "58 -  77760\n",
      "59 -  77760\n",
      "60 -  77760\n",
      "61 -  77760\n",
      "62 -  77760\n",
      "63 -  77760\n",
      "64 -  77760\n",
      "65 -  77760\n",
      "66 -  77760\n",
      "67 -  77760\n",
      "68 -  77760\n",
      "69 -  77760\n",
      "70 -  77760\n",
      "71 -  77760\n",
      "72 -  77760\n",
      "73 -  77760\n",
      "74 -  77760\n",
      "75 -  77760\n",
      "76 -  77760\n",
      "77 -  77760\n",
      "78 -  77760\n",
      "79 -  77760\n",
      "80 -  77760\n",
      "81 -  77760\n",
      "82 -  77760\n",
      "83 -  77760\n",
      "84 -  77760\n",
      "85 -  77760\n",
      "86 -  77760\n",
      "87 -  77760\n",
      "88 -  77760\n",
      "89 -  77760\n",
      "90 -  77760\n",
      "91 -  77760\n",
      "92 -  77760\n",
      "93 -  77760\n",
      "94 -  77760\n",
      "95 -  77760\n",
      "96 -  77760\n",
      "97 -  77760\n",
      "98 -  77760\n",
      "99 -  77760\n",
      "100 -  77760\n",
      "101 -  77760\n",
      "102 -  77760\n",
      "103 -  77760\n",
      "104 -  77760\n",
      "105 -  77760\n",
      "106 -  77760\n",
      "107 -  77760\n",
      "108 -  77760\n",
      "109 -  77760\n",
      "110 -  77760\n",
      "111 -  77760\n",
      "112 -  77760\n",
      "113 -  77760\n",
      "114 -  77760\n",
      "115 -  77760\n",
      "116 -  77760\n",
      "117 -  77760\n",
      "118 -  77760\n",
      "119 -  77760\n",
      "120 -  77760\n",
      "121 -  77760\n",
      "122 -  77760\n",
      "123 -  77760\n",
      "124 -  77760\n",
      "125 -  77760\n",
      "126 -  77760\n",
      "127 -  77760\n",
      "128 -  77760\n",
      "129 -  77760\n",
      "130 -  77760\n",
      "131 -  77760\n",
      "132 -  77760\n",
      "133 -  77760\n",
      "134 -  77760\n",
      "135 -  77760\n"
     ]
    }
   ],
   "source": [
    "def tamanho_das_imagens(face):\n",
    "    for a, i in enumerate(face):\n",
    "        #print(i)\n",
    "        x, y = i.shape\n",
    "        print(f'{a + 1} - ', x * y)\n",
    "\n",
    "tamanho_das_imagens(faces)"
   ]
  },
  {
   "cell_type": "code",
   "execution_count": null,
   "metadata": {},
   "outputs": [],
   "source": []
  },
  {
   "cell_type": "code",
   "execution_count": null,
   "metadata": {},
   "outputs": [],
   "source": []
  }
 ],
 "metadata": {
  "kernelspec": {
   "display_name": "Python 3",
   "language": "python",
   "name": "python3"
  },
  "language_info": {
   "codemirror_mode": {
    "name": "ipython",
    "version": 3
   },
   "file_extension": ".py",
   "mimetype": "text/x-python",
   "name": "python",
   "nbconvert_exporter": "python",
   "pygments_lexer": "ipython3",
   "version": "3.10.6"
  },
  "orig_nbformat": 4
 },
 "nbformat": 4,
 "nbformat_minor": 2
}
