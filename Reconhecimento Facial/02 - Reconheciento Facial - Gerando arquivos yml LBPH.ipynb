{
 "cells": [
  {
   "cell_type": "code",
   "execution_count": 2,
   "metadata": {},
   "outputs": [],
   "source": [
    "import os\n",
    "import numpy as np\n",
    "from PIL import Image\n",
    "import cv2\n",
    "\n",
    "def get_image_data():\n",
    "    paths = [os.path.join('./New_DB/yalefaces/train/', p) for p in os.listdir('./New_DB/yalefaces/train/')]  \n",
    "    faces = []\n",
    "    ids = []\n",
    "    for paht in paths:\n",
    "        #print(paht) # 1 - Para mostrar os caminhos.\n",
    "        imagem = Image.open(paht).convert('L') # OBS: Convertendo a imagem para a escala de cinza.\n",
    "        #print(type(imagem)) # 2 - Para mostrar os caminhos convertidos em imagem agora.\n",
    "        imagem_np = np.array(imagem, 'uint8') #OBS: Convertendo para um npArray de inteiros.\n",
    "        #print(type(imagem_np)) # 3 - Imagem convertidas em um array numpy - números\n",
    "        #print(os.path.split(paht)[1]) # 4.1 - Primeira parte da extração do número id para \n",
    "        # associar o caminho a imagem\n",
    "        #print(os.path.split(paht)[1].split('.')[0].split()) # 4.3 Mostrando como separar por nome.\n",
    "        #print(os.path.split(paht)[1]) # 4.2 - Mesma coisa de cima, com apenas uma etapa a mais de extração.\n",
    "        id = int(os.path.split(paht)[1].split('.')[0].replace('subject', ''))\n",
    "        #print(id) # 5 - para mostrar a extrão do número id.\n",
    "        ids.append(id) # 6 - Para assoscia o id a imagem.\n",
    "        faces.append(imagem_np) # 7 - Imagem como forma de numpy array.\n",
    "    return np.array(ids), faces\n",
    "\n",
    "ids, faces = get_image_data()\n",
    "\n",
    "lbph_classifier = cv2.face.LBPHFaceRecognizer_create() # com este comando funciona!\n",
    "#lbph_classifier = cv2.face.LBPHRecognizer_create() # deste modo não funciona.\n",
    "# por isso fiz uma modificação em cima.\n",
    "lbph_classifier.train(faces, ids)\n",
    "lbph_classifier.write('lbph_classifier.yml')"
   ]
  },
  {
   "cell_type": "code",
   "execution_count": null,
   "metadata": {},
   "outputs": [],
   "source": []
  }
 ],
 "metadata": {
  "kernelspec": {
   "display_name": "Python 3",
   "language": "python",
   "name": "python3"
  },
  "language_info": {
   "codemirror_mode": {
    "name": "ipython",
    "version": 3
   },
   "file_extension": ".py",
   "mimetype": "text/x-python",
   "name": "python",
   "nbconvert_exporter": "python",
   "pygments_lexer": "ipython3",
   "version": "3.10.6"
  },
  "orig_nbformat": 4
 },
 "nbformat": 4,
 "nbformat_minor": 2
}
