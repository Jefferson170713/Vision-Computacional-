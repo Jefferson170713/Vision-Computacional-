{
 "cells": [
  {
   "cell_type": "code",
   "execution_count": 1,
   "metadata": {},
   "outputs": [],
   "source": [
    "import cv2\n",
    "import numpy as np\n",
    "from PIL import Image\n",
    "import os"
   ]
  },
  {
   "cell_type": "code",
   "execution_count": 2,
   "metadata": {},
   "outputs": [
    {
     "data": {
      "text/plain": [
       "array([[130, 130, 130, ..., 255, 255, 255],\n",
       "       [255, 255, 255, ..., 255, 255, 255],\n",
       "       [255, 255, 255, ..., 255, 255, 255],\n",
       "       ...,\n",
       "       [255, 255, 255, ..., 241, 255, 255],\n",
       "       [255, 255, 255, ..., 234, 237, 252],\n",
       "       [ 68,  68,  68, ...,  68,  68,  68]], dtype=uint8)"
      ]
     },
     "execution_count": 2,
     "metadata": {},
     "output_type": "execute_result"
    }
   ],
   "source": [
    "imagem_teste_0 = './New_DB/yalefaces/test/subject10.sad.gif'\n",
    "imege = Image.open(imagem_teste_0).convert('L')\n",
    "imege_np = np.array(imege, 'uint8')\n",
    "imege_np"
   ]
  },
  {
   "cell_type": "code",
   "execution_count": 3,
   "metadata": {},
   "outputs": [
    {
     "data": {
      "text/plain": [
       "(243, 320)"
      ]
     },
     "execution_count": 3,
     "metadata": {},
     "output_type": "execute_result"
    }
   ],
   "source": [
    "imege_np.shape"
   ]
  },
  {
   "cell_type": "code",
   "execution_count": 4,
   "metadata": {},
   "outputs": [],
   "source": [
    "lbph_classifier = cv2.face.LBPHFaceRecognizer_create()\n",
    "lbph_classifier.read('./lbph_classifier.yml')"
   ]
  },
  {
   "cell_type": "code",
   "execution_count": 5,
   "metadata": {},
   "outputs": [
    {
     "data": {
      "text/plain": [
       "(10, 6.384336446373091)"
      ]
     },
     "execution_count": 5,
     "metadata": {},
     "output_type": "execute_result"
    }
   ],
   "source": [
    "predict = lbph_classifier.predict(imege_np)\n",
    "predict"
   ]
  },
  {
   "attachments": {},
   "cell_type": "markdown",
   "metadata": {},
   "source": [
    "### Primeiro é a classe, segundo é a previsão, quanto maior for o número, maior a confiança."
   ]
  },
  {
   "cell_type": "code",
   "execution_count": 6,
   "metadata": {},
   "outputs": [],
   "source": [
    "def reconhecedor():\n",
    "    \n",
    "    paths = [os.path.join('./New_DB/yalefaces/test/', p) for p in os.listdir('./New_DB/yalefaces/test/')]  \n",
    "    faces = []\n",
    "    ids = []\n",
    "    for path in paths:\n",
    "        imagem = Image.open(path).convert('L')\n",
    "        imagem_np = np.array(imagem, 'uint8')\n",
    "        id = int(os.path.split(path)[1].split('.')[0].replace('subject', ''))\n",
    "        ids.append(id)\n",
    "        faces.append(imagem_np)\n",
    "        \n",
    "    return np.array(ids), faces"
   ]
  },
  {
   "cell_type": "code",
   "execution_count": 7,
   "metadata": {},
   "outputs": [],
   "source": [
    "def mostrar_previsao(faces_np):\n",
    "    \n",
    "    lbph_classifier_fotos = cv2.face.LBPHFaceRecognizer_create()\n",
    "    lbph_classifier_fotos.read('./lbph_classifier.yml')\n",
    "    \n",
    "    previsoes = []\n",
    "    \n",
    "    for foto in faces_np:\n",
    "        predict = lbph_classifier_fotos.predict(foto)\n",
    "        previsoes.append(predict)\n",
    "        #preciso colocar uma função que pegue todos as imagens.\n",
    "    \n",
    "    return previsoes\n",
    "    "
   ]
  },
  {
   "cell_type": "code",
   "execution_count": 8,
   "metadata": {},
   "outputs": [],
   "source": [
    "ids_test, faces_test = reconhecedor()"
   ]
  },
  {
   "cell_type": "code",
   "execution_count": 9,
   "metadata": {},
   "outputs": [],
   "source": [
    "prevision = mostrar_previsao(faces_test)"
   ]
  },
  {
   "cell_type": "code",
   "execution_count": 10,
   "metadata": {},
   "outputs": [],
   "source": [
    "def mostrar_valores(mostrar):\n",
    "    \n",
    "    for n, p in enumerate(mostrar):\n",
    "        print(f'{n+1} : {p}')"
   ]
  },
  {
   "cell_type": "code",
   "execution_count": 11,
   "metadata": {},
   "outputs": [
    {
     "name": "stdout",
     "output_type": "stream",
     "text": [
      "1 : (1, 22.62525404335563)\n",
      "2 : (1, 10.516486843653137)\n",
      "3 : (4, 25.052986207462283)\n",
      "4 : (5, 25.779173954992928)\n",
      "5 : (3, 13.081488574279117)\n",
      "6 : (9, 27.040500557165878)\n",
      "7 : (9, 25.87783432751071)\n",
      "8 : (4, 9.581683012434771)\n",
      "9 : (5, 7.936066004950048)\n",
      "10 : (5, 9.404416693842116)\n",
      "11 : (6, 9.777298274982265)\n",
      "12 : (14, 31.50341859556688)\n",
      "13 : (7, 12.01175080395902)\n",
      "14 : (9, 22.901499201898798)\n",
      "15 : (8, 0.0)\n",
      "16 : (4, 36.63934891185292)\n",
      "17 : (7, 25.614281240814968)\n",
      "18 : (9, 10.500599116253822)\n",
      "19 : (4, 19.05638321614462)\n",
      "20 : (10, 6.384336446373091)\n",
      "21 : (11, 11.717132147231391)\n",
      "22 : (11, 11.668634234948554)\n",
      "23 : (12, 0.0)\n",
      "24 : (12, 47.57150329610082)\n",
      "25 : (13, 6.141108281668351)\n",
      "26 : (13, 6.898611904827257)\n",
      "27 : (14, 0.0)\n",
      "28 : (14, 9.736137850357382)\n",
      "29 : (7, 28.513286928130153)\n",
      "30 : (15, 8.440935126341593)\n"
     ]
    }
   ],
   "source": [
    "mostrar_valores(prevision)"
   ]
  },
  {
   "cell_type": "code",
   "execution_count": null,
   "metadata": {},
   "outputs": [],
   "source": []
  }
 ],
 "metadata": {
  "kernelspec": {
   "display_name": "Python 3",
   "language": "python",
   "name": "python3"
  },
  "language_info": {
   "codemirror_mode": {
    "name": "ipython",
    "version": 3
   },
   "file_extension": ".py",
   "mimetype": "text/x-python",
   "name": "python",
   "nbconvert_exporter": "python",
   "pygments_lexer": "ipython3",
   "version": "3.10.6"
  },
  "orig_nbformat": 4
 },
 "nbformat": 4,
 "nbformat_minor": 2
}
