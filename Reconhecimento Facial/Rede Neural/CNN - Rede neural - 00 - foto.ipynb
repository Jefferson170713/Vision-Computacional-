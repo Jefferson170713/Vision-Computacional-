{
 "cells": [
  {
   "cell_type": "code",
   "execution_count": 41,
   "metadata": {},
   "outputs": [],
   "source": [
    "import numpy as np\n",
    "import cv2\n",
    "import seaborn as sns\n",
    "import matplotlib.pyplot as plt\n",
    "import pandas as pd\n",
    "import tensorflow as tf\n",
    "import os\n",
    "import zipfile"
   ]
  },
  {
   "attachments": {},
   "cell_type": "markdown",
   "metadata": {},
   "source": [
    "#### Se não der certo em algum momento do código, pode ser que seja a biblioteca TENSORFLoW.\n",
    "    - Podemos refaazer com o comando \n",
    "        !pip inatall tensorflow == 2.6.0"
   ]
  },
  {
   "cell_type": "code",
   "execution_count": 42,
   "metadata": {},
   "outputs": [
    {
     "data": {
      "text/plain": [
       "'2.12.0'"
      ]
     },
     "execution_count": 42,
     "metadata": {},
     "output_type": "execute_result"
    }
   ],
   "source": [
    "tf.__version__"
   ]
  },
  {
   "attachments": {},
   "cell_type": "markdown",
   "metadata": {},
   "source": [
    "### Extraindo os arquivos zip das imagens.\n",
    "    - Só precisa ser executado uma única vez."
   ]
  },
  {
   "cell_type": "code",
   "execution_count": 43,
   "metadata": {},
   "outputs": [],
   "source": [
    "#path = 'C:/Users/55859/Desktop/Estudos/Visão Computacional/Reconhecimento Facial/Rede Neural/Arquivos/homer_bart_1.zip'\n",
    "#zip_object = zipfile.ZipFile(file = path, mode= 'r')\n",
    "#zip_object.extractall('./')\n",
    "#zip_object.close()"
   ]
  },
  {
   "cell_type": "code",
   "execution_count": 44,
   "metadata": {},
   "outputs": [],
   "source": [
    "#path = 'C:/Users/55859/Desktop/Estudos/Visão Computacional/Reconhecimento Facial/Rede Neural/Arquivos/homer_bart_2.zip'\n",
    "#zip_object = zipfile.ZipFile(file = path, mode= 'r')\n",
    "#zip_object.extractall('./')\n",
    "#zip_object.close()"
   ]
  },
  {
   "cell_type": "code",
   "execution_count": 45,
   "metadata": {},
   "outputs": [
    {
     "name": "stdout",
     "output_type": "stream",
     "text": [
      "./Arquivos/homer_bart_1/.DS_Store\n",
      "./Arquivos/homer_bart_1/bart1.bmp\n",
      "./Arquivos/homer_bart_1/bart10.bmp\n",
      "./Arquivos/homer_bart_1/bart100.bmp\n",
      "./Arquivos/homer_bart_1/bart101.bmp\n",
      "./Arquivos/homer_bart_1/bart102.bmp\n",
      "./Arquivos/homer_bart_1/bart103.bmp\n",
      "./Arquivos/homer_bart_1/bart104.bmp\n",
      "./Arquivos/homer_bart_1/bart105.bmp\n",
      "./Arquivos/homer_bart_1/bart106.bmp\n",
      "./Arquivos/homer_bart_1/bart108.bmp\n",
      "./Arquivos/homer_bart_1/bart109.bmp\n",
      "./Arquivos/homer_bart_1/bart11.bmp\n",
      "./Arquivos/homer_bart_1/bart110.bmp\n",
      "./Arquivos/homer_bart_1/bart111.bmp\n",
      "./Arquivos/homer_bart_1/bart112.bmp\n",
      "./Arquivos/homer_bart_1/bart113.bmp\n",
      "./Arquivos/homer_bart_1/bart114.bmp\n",
      "./Arquivos/homer_bart_1/bart115.bmp\n",
      "./Arquivos/homer_bart_1/bart116.bmp\n",
      "./Arquivos/homer_bart_1/bart117.bmp\n",
      "./Arquivos/homer_bart_1/bart118.bmp\n",
      "./Arquivos/homer_bart_1/bart119.bmp\n",
      "./Arquivos/homer_bart_1/bart12.bmp\n",
      "./Arquivos/homer_bart_1/bart120.bmp\n",
      "./Arquivos/homer_bart_1/bart121.bmp\n",
      "./Arquivos/homer_bart_1/bart122.bmp\n",
      "./Arquivos/homer_bart_1/bart123.bmp\n",
      "./Arquivos/homer_bart_1/bart124.bmp\n",
      "./Arquivos/homer_bart_1/bart125.bmp\n",
      "./Arquivos/homer_bart_1/bart126.bmp\n",
      "./Arquivos/homer_bart_1/bart127.bmp\n",
      "./Arquivos/homer_bart_1/bart128.bmp\n",
      "./Arquivos/homer_bart_1/bart13.bmp\n",
      "./Arquivos/homer_bart_1/bart130.bmp\n",
      "./Arquivos/homer_bart_1/bart131.bmp\n",
      "./Arquivos/homer_bart_1/bart132.bmp\n",
      "./Arquivos/homer_bart_1/bart133.bmp\n",
      "./Arquivos/homer_bart_1/bart134.bmp\n",
      "./Arquivos/homer_bart_1/bart135.bmp\n",
      "./Arquivos/homer_bart_1/bart136.bmp\n",
      "./Arquivos/homer_bart_1/bart137.bmp\n",
      "./Arquivos/homer_bart_1/bart138.bmp\n",
      "./Arquivos/homer_bart_1/bart139.bmp\n",
      "./Arquivos/homer_bart_1/bart14.bmp\n",
      "./Arquivos/homer_bart_1/bart141.bmp\n",
      "./Arquivos/homer_bart_1/bart142.bmp\n",
      "./Arquivos/homer_bart_1/bart143.bmp\n",
      "./Arquivos/homer_bart_1/bart144.bmp\n",
      "./Arquivos/homer_bart_1/bart145.bmp\n",
      "./Arquivos/homer_bart_1/bart146.bmp\n",
      "./Arquivos/homer_bart_1/bart147.bmp\n",
      "./Arquivos/homer_bart_1/bart148.bmp\n",
      "./Arquivos/homer_bart_1/bart149.bmp\n",
      "./Arquivos/homer_bart_1/bart15.bmp\n",
      "./Arquivos/homer_bart_1/bart150.bmp\n",
      "./Arquivos/homer_bart_1/bart151.bmp\n",
      "./Arquivos/homer_bart_1/bart153.bmp\n",
      "./Arquivos/homer_bart_1/bart154.bmp\n",
      "./Arquivos/homer_bart_1/bart155.bmp\n",
      "./Arquivos/homer_bart_1/bart156.bmp\n",
      "./Arquivos/homer_bart_1/bart157.bmp\n",
      "./Arquivos/homer_bart_1/bart158.bmp\n",
      "./Arquivos/homer_bart_1/bart159.bmp\n",
      "./Arquivos/homer_bart_1/bart16.bmp\n",
      "./Arquivos/homer_bart_1/bart160.bmp\n",
      "./Arquivos/homer_bart_1/bart161.bmp\n",
      "./Arquivos/homer_bart_1/bart162.bmp\n",
      "./Arquivos/homer_bart_1/bart164.bmp\n",
      "./Arquivos/homer_bart_1/bart165.bmp\n",
      "./Arquivos/homer_bart_1/bart166.bmp\n",
      "./Arquivos/homer_bart_1/bart167.bmp\n",
      "./Arquivos/homer_bart_1/bart168.bmp\n",
      "./Arquivos/homer_bart_1/bart169.bmp\n",
      "./Arquivos/homer_bart_1/bart17.bmp\n",
      "./Arquivos/homer_bart_1/bart18.bmp\n",
      "./Arquivos/homer_bart_1/bart19.bmp\n",
      "./Arquivos/homer_bart_1/bart2.bmp\n",
      "./Arquivos/homer_bart_1/bart20.bmp\n",
      "./Arquivos/homer_bart_1/bart21.bmp\n",
      "./Arquivos/homer_bart_1/bart22.bmp\n",
      "./Arquivos/homer_bart_1/bart23.bmp\n",
      "./Arquivos/homer_bart_1/bart24.bmp\n",
      "./Arquivos/homer_bart_1/bart25.bmp\n",
      "./Arquivos/homer_bart_1/bart26.bmp\n",
      "./Arquivos/homer_bart_1/bart27.bmp\n",
      "./Arquivos/homer_bart_1/bart28.bmp\n",
      "./Arquivos/homer_bart_1/bart29.bmp\n",
      "./Arquivos/homer_bart_1/bart3.bmp\n",
      "./Arquivos/homer_bart_1/bart30.bmp\n",
      "./Arquivos/homer_bart_1/bart31.bmp\n",
      "./Arquivos/homer_bart_1/bart32.bmp\n",
      "./Arquivos/homer_bart_1/bart34.bmp\n",
      "./Arquivos/homer_bart_1/bart35.bmp\n",
      "./Arquivos/homer_bart_1/bart36.bmp\n",
      "./Arquivos/homer_bart_1/bart37.bmp\n",
      "./Arquivos/homer_bart_1/bart38.bmp\n",
      "./Arquivos/homer_bart_1/bart39.bmp\n",
      "./Arquivos/homer_bart_1/bart4.bmp\n",
      "./Arquivos/homer_bart_1/bart40.bmp\n",
      "./Arquivos/homer_bart_1/bart42.bmp\n",
      "./Arquivos/homer_bart_1/bart43.bmp\n",
      "./Arquivos/homer_bart_1/bart44.bmp\n",
      "./Arquivos/homer_bart_1/bart45.bmp\n",
      "./Arquivos/homer_bart_1/bart46.bmp\n",
      "./Arquivos/homer_bart_1/bart47.bmp\n",
      "./Arquivos/homer_bart_1/bart48.bmp\n",
      "./Arquivos/homer_bart_1/bart49.bmp\n",
      "./Arquivos/homer_bart_1/bart5.bmp\n",
      "./Arquivos/homer_bart_1/bart50.bmp\n",
      "./Arquivos/homer_bart_1/bart51.bmp\n",
      "./Arquivos/homer_bart_1/bart52.bmp\n",
      "./Arquivos/homer_bart_1/bart53.bmp\n",
      "./Arquivos/homer_bart_1/bart54.bmp\n",
      "./Arquivos/homer_bart_1/bart55.bmp\n",
      "./Arquivos/homer_bart_1/bart56.bmp\n",
      "./Arquivos/homer_bart_1/bart57.bmp\n",
      "./Arquivos/homer_bart_1/bart58.bmp\n",
      "./Arquivos/homer_bart_1/bart59.bmp\n",
      "./Arquivos/homer_bart_1/bart6.bmp\n",
      "./Arquivos/homer_bart_1/bart60.bmp\n",
      "./Arquivos/homer_bart_1/bart61.bmp\n",
      "./Arquivos/homer_bart_1/bart62.bmp\n",
      "./Arquivos/homer_bart_1/bart63.bmp\n",
      "./Arquivos/homer_bart_1/bart64.bmp\n",
      "./Arquivos/homer_bart_1/bart65.bmp\n",
      "./Arquivos/homer_bart_1/bart66.bmp\n",
      "./Arquivos/homer_bart_1/bart67.bmp\n",
      "./Arquivos/homer_bart_1/bart68.bmp\n",
      "./Arquivos/homer_bart_1/bart69.bmp\n",
      "./Arquivos/homer_bart_1/bart7.bmp\n",
      "./Arquivos/homer_bart_1/bart70.bmp\n",
      "./Arquivos/homer_bart_1/bart71.bmp\n",
      "./Arquivos/homer_bart_1/bart72.bmp\n",
      "./Arquivos/homer_bart_1/bart73.bmp\n",
      "./Arquivos/homer_bart_1/bart74.bmp\n",
      "./Arquivos/homer_bart_1/bart75.bmp\n",
      "./Arquivos/homer_bart_1/bart76.bmp\n",
      "./Arquivos/homer_bart_1/bart77.bmp\n",
      "./Arquivos/homer_bart_1/bart79.bmp\n",
      "./Arquivos/homer_bart_1/bart8.bmp\n",
      "./Arquivos/homer_bart_1/bart80.bmp\n",
      "./Arquivos/homer_bart_1/bart81.bmp\n",
      "./Arquivos/homer_bart_1/bart82.bmp\n",
      "./Arquivos/homer_bart_1/bart83.bmp\n",
      "./Arquivos/homer_bart_1/bart84.bmp\n",
      "./Arquivos/homer_bart_1/bart85.bmp\n",
      "./Arquivos/homer_bart_1/bart86.bmp\n",
      "./Arquivos/homer_bart_1/bart87.bmp\n",
      "./Arquivos/homer_bart_1/bart89.bmp\n",
      "./Arquivos/homer_bart_1/bart9.bmp\n",
      "./Arquivos/homer_bart_1/bart90.bmp\n",
      "./Arquivos/homer_bart_1/bart91.bmp\n",
      "./Arquivos/homer_bart_1/bart92.bmp\n",
      "./Arquivos/homer_bart_1/bart93.bmp\n",
      "./Arquivos/homer_bart_1/bart94.bmp\n",
      "./Arquivos/homer_bart_1/bart95.bmp\n",
      "./Arquivos/homer_bart_1/bart96.bmp\n",
      "./Arquivos/homer_bart_1/bart97.bmp\n",
      "./Arquivos/homer_bart_1/bart98.bmp\n",
      "./Arquivos/homer_bart_1/bart99.bmp\n",
      "./Arquivos/homer_bart_1/homer1.bmp\n",
      "./Arquivos/homer_bart_1/homer10.bmp\n",
      "./Arquivos/homer_bart_1/homer100.bmp\n",
      "./Arquivos/homer_bart_1/homer101.bmp\n",
      "./Arquivos/homer_bart_1/homer102.bmp\n",
      "./Arquivos/homer_bart_1/homer103.bmp\n",
      "./Arquivos/homer_bart_1/homer104.bmp\n",
      "./Arquivos/homer_bart_1/homer105.bmp\n",
      "./Arquivos/homer_bart_1/homer106.bmp\n",
      "./Arquivos/homer_bart_1/homer107.bmp\n",
      "./Arquivos/homer_bart_1/homer109.bmp\n",
      "./Arquivos/homer_bart_1/homer110.bmp\n",
      "./Arquivos/homer_bart_1/homer112.bmp\n",
      "./Arquivos/homer_bart_1/homer113.bmp\n",
      "./Arquivos/homer_bart_1/homer115.bmp\n",
      "./Arquivos/homer_bart_1/homer116.bmp\n",
      "./Arquivos/homer_bart_1/homer117.bmp\n",
      "./Arquivos/homer_bart_1/homer119.bmp\n",
      "./Arquivos/homer_bart_1/homer120.bmp\n",
      "./Arquivos/homer_bart_1/homer121.bmp\n",
      "./Arquivos/homer_bart_1/homer122.bmp\n",
      "./Arquivos/homer_bart_1/homer123.bmp\n",
      "./Arquivos/homer_bart_1/homer124.bmp\n",
      "./Arquivos/homer_bart_1/homer13.bmp\n",
      "./Arquivos/homer_bart_1/homer14.bmp\n",
      "./Arquivos/homer_bart_1/homer15.bmp\n",
      "./Arquivos/homer_bart_1/homer16.bmp\n",
      "./Arquivos/homer_bart_1/homer17.bmp\n",
      "./Arquivos/homer_bart_1/homer18.bmp\n",
      "./Arquivos/homer_bart_1/homer2.bmp\n",
      "./Arquivos/homer_bart_1/homer20.bmp\n",
      "./Arquivos/homer_bart_1/homer21.bmp\n",
      "./Arquivos/homer_bart_1/homer22.bmp\n",
      "./Arquivos/homer_bart_1/homer23.bmp\n",
      "./Arquivos/homer_bart_1/homer24.bmp\n",
      "./Arquivos/homer_bart_1/homer26.bmp\n",
      "./Arquivos/homer_bart_1/homer27.bmp\n",
      "./Arquivos/homer_bart_1/homer28.bmp\n",
      "./Arquivos/homer_bart_1/homer29.bmp\n",
      "./Arquivos/homer_bart_1/homer3.bmp\n",
      "./Arquivos/homer_bart_1/homer30.bmp\n",
      "./Arquivos/homer_bart_1/homer31.bmp\n",
      "./Arquivos/homer_bart_1/homer32.bmp\n",
      "./Arquivos/homer_bart_1/homer33.bmp\n",
      "./Arquivos/homer_bart_1/homer34.bmp\n",
      "./Arquivos/homer_bart_1/homer35.bmp\n",
      "./Arquivos/homer_bart_1/homer36.bmp\n",
      "./Arquivos/homer_bart_1/homer37.bmp\n",
      "./Arquivos/homer_bart_1/homer38.bmp\n",
      "./Arquivos/homer_bart_1/homer4.bmp\n",
      "./Arquivos/homer_bart_1/homer40.bmp\n",
      "./Arquivos/homer_bart_1/homer41.bmp\n",
      "./Arquivos/homer_bart_1/homer43.bmp\n",
      "./Arquivos/homer_bart_1/homer44.bmp\n",
      "./Arquivos/homer_bart_1/homer45.bmp\n",
      "./Arquivos/homer_bart_1/homer46.bmp\n",
      "./Arquivos/homer_bart_1/homer47.bmp\n",
      "./Arquivos/homer_bart_1/homer48.bmp\n",
      "./Arquivos/homer_bart_1/homer49.bmp\n",
      "./Arquivos/homer_bart_1/homer5.bmp\n",
      "./Arquivos/homer_bart_1/homer50.bmp\n",
      "./Arquivos/homer_bart_1/homer51.bmp\n",
      "./Arquivos/homer_bart_1/homer52.bmp\n",
      "./Arquivos/homer_bart_1/homer54.bmp\n",
      "./Arquivos/homer_bart_1/homer55.bmp\n",
      "./Arquivos/homer_bart_1/homer56.bmp\n",
      "./Arquivos/homer_bart_1/homer57.bmp\n",
      "./Arquivos/homer_bart_1/homer58.bmp\n",
      "./Arquivos/homer_bart_1/homer59.bmp\n",
      "./Arquivos/homer_bart_1/homer6.bmp\n",
      "./Arquivos/homer_bart_1/homer60.bmp\n",
      "./Arquivos/homer_bart_1/homer61.bmp\n",
      "./Arquivos/homer_bart_1/homer62.bmp\n",
      "./Arquivos/homer_bart_1/homer63.bmp\n",
      "./Arquivos/homer_bart_1/homer65.bmp\n",
      "./Arquivos/homer_bart_1/homer66.bmp\n",
      "./Arquivos/homer_bart_1/homer68.bmp\n",
      "./Arquivos/homer_bart_1/homer69.bmp\n",
      "./Arquivos/homer_bart_1/homer7.bmp\n",
      "./Arquivos/homer_bart_1/homer70.bmp\n",
      "./Arquivos/homer_bart_1/homer71.bmp\n",
      "./Arquivos/homer_bart_1/homer72.bmp\n",
      "./Arquivos/homer_bart_1/homer73.bmp\n",
      "./Arquivos/homer_bart_1/homer74.bmp\n",
      "./Arquivos/homer_bart_1/homer75.bmp\n",
      "./Arquivos/homer_bart_1/homer76.bmp\n",
      "./Arquivos/homer_bart_1/homer77.bmp\n",
      "./Arquivos/homer_bart_1/homer78.bmp\n",
      "./Arquivos/homer_bart_1/homer79.bmp\n",
      "./Arquivos/homer_bart_1/homer8.bmp\n",
      "./Arquivos/homer_bart_1/homer80.bmp\n",
      "./Arquivos/homer_bart_1/homer81.bmp\n",
      "./Arquivos/homer_bart_1/homer82.bmp\n",
      "./Arquivos/homer_bart_1/homer83.bmp\n",
      "./Arquivos/homer_bart_1/homer84.bmp\n",
      "./Arquivos/homer_bart_1/homer85.bmp\n",
      "./Arquivos/homer_bart_1/homer86.bmp\n",
      "./Arquivos/homer_bart_1/homer87.bmp\n",
      "./Arquivos/homer_bart_1/homer9.bmp\n",
      "./Arquivos/homer_bart_1/homer90.bmp\n",
      "./Arquivos/homer_bart_1/homer91.bmp\n",
      "./Arquivos/homer_bart_1/homer92.bmp\n",
      "./Arquivos/homer_bart_1/homer93.bmp\n",
      "./Arquivos/homer_bart_1/homer94.bmp\n",
      "./Arquivos/homer_bart_1/homer95.bmp\n",
      "./Arquivos/homer_bart_1/homer96.bmp\n",
      "./Arquivos/homer_bart_1/homer97.bmp\n",
      "./Arquivos/homer_bart_1/homer98.bmp\n",
      "./Arquivos/homer_bart_1/homer99.bmp\n"
     ]
    }
   ],
   "source": [
    "path = './Arquivos/homer_bart_1/'\n",
    "arquivos = [os.path.join(path, p) for p in sorted(os.listdir(path))]\n",
    "for p in arquivos:\n",
    "    print(p)\n"
   ]
  },
  {
   "attachments": {},
   "cell_type": "markdown",
   "metadata": {},
   "source": [
    "#### OBS: todas as imagens precisão ter o mesmo tamanho de pixel para podermos operar.\n",
    "    - Para isso precisamos padronozar os tamanhos das imagens.\n",
    "    - Colocando altura e largura com 128, mas poderia ser 2 elevado a n. \n",
    "        Como exemplo 512, com a resolução maior, a precisão da CNN aumenta.\n",
    "        Mas para estudo, vamos colocar 128."
   ]
  },
  {
   "cell_type": "code",
   "execution_count": 46,
   "metadata": {},
   "outputs": [
    {
     "data": {
      "text/plain": [
       "65536"
      ]
     },
     "execution_count": 46,
     "metadata": {},
     "output_type": "execute_result"
    }
   ],
   "source": [
    "altura, largura = 256, 256\n",
    "altura * largura\n",
    "# Este valor é por imagem."
   ]
  },
  {
   "attachments": {},
   "cell_type": "markdown",
   "metadata": {},
   "source": [
    "### O código abaixo não está funcionando."
   ]
  },
  {
   "cell_type": "code",
   "execution_count": 47,
   "metadata": {},
   "outputs": [],
   "source": [
    "#for imagens_caminho in arquivos:\n",
    "    #print(imagens_caminho) # Somente para visualizar.\n",
    "#    try:\n",
    " #       imagem = cv2.imread(imagens_caminho) # 1 essa primeira parte é porque tem uma arquivo qu\n",
    " #       (h, w) = imagem.sahpe[:2]\n",
    "    \n",
    "  #  except:\n",
    "   #     continue\n",
    "    #imagem = cv2.resize(imagem, (altura, largura))\n",
    "    #imagem = cv2.cvtColor(imagem, cv2.COLOR_BGR2GRAY)\n",
    "    #imagem = np.array(imagem, 'uint8')\n",
    "    #print(imagem)\n",
    "    #imagens.append(imagem)"
   ]
  },
  {
   "attachments": {},
   "cell_type": "markdown",
   "metadata": {},
   "source": [
    "### Explicação do código de cima.\n",
    "    - 1 essa primeira parte é porque tem uma arquivo que não é imagem './Arquivos/homer_bart_1/.DS_Store'\n",
    "    Então essa parte do try e excep faz o tratamento de excessão."
   ]
  },
  {
   "cell_type": "code",
   "execution_count": 48,
   "metadata": {},
   "outputs": [],
   "source": [
    "image = []\n",
    "classes = []\n",
    "for i_caminho in arquivos:\n",
    "    try:\n",
    "        img = cv2.imread(i_caminho)\n",
    "        (h, w) = img.shape[:2]\n",
    "    except:\n",
    "        continue\n",
    "    img = cv2.resize(img, (altura, largura))# Passando os paarâmetros novos de alt, larg.\n",
    "    img = cv2.cvtColor(img, cv2.COLOR_BGR2GRAY) # Passando a imagem para escala de cinza.\n",
    "    # Transformando em um vetero com o comando revel()\n",
    "    img = img.ravel()\n",
    "    image.append(img)\n",
    "    nome_image = os.path.basename(os.path.normpath(i_caminho))\n",
    "    #print(nome_image) # Para mostrar o nome.\n",
    "    if nome_image.startswith('b'):\n",
    "        classe = 0\n",
    "    else:  \n",
    "        classe = 1\n",
    "    classes.append(classe) \n"
   ]
  },
  {
   "cell_type": "code",
   "execution_count": 49,
   "metadata": {},
   "outputs": [
    {
     "data": {
      "text/plain": [
       "(array([255, 255, 255, ..., 255, 255, 255], dtype=uint8), 0)"
      ]
     },
     "execution_count": 49,
     "metadata": {},
     "output_type": "execute_result"
    }
   ],
   "source": [
    "image[0], classes[0]"
   ]
  },
  {
   "attachments": {},
   "cell_type": "markdown",
   "metadata": {},
   "source": [
    "#### OBS: Quando estamos trabalhando com esses modelos.\n",
    "    - Separamos em variável que já sabemos que são as classes, e os valores que vamos se basear."
   ]
  },
  {
   "cell_type": "code",
   "execution_count": 50,
   "metadata": {},
   "outputs": [],
   "source": [
    "X = np.asarray(image)\n",
    "Y = np.asarray(classes)"
   ]
  },
  {
   "attachments": {},
   "cell_type": "markdown",
   "metadata": {},
   "source": [
    "#### OBS:\n",
    "##### Temos 269 imagens e cada uma tem 65536 pixels."
   ]
  },
  {
   "cell_type": "code",
   "execution_count": 51,
   "metadata": {},
   "outputs": [
    {
     "data": {
      "text/plain": [
       "((269, 65536), (269,))"
      ]
     },
     "execution_count": 51,
     "metadata": {},
     "output_type": "execute_result"
    }
   ],
   "source": [
    "X.shape, Y.shape"
   ]
  },
  {
   "cell_type": "code",
   "execution_count": 52,
   "metadata": {},
   "outputs": [
    {
     "data": {
      "image/png": "[encoded data removed]",
      "text/plain": [
       "<Figure size 640x480 with 1 Axes>"
      ]
     },
     "metadata": {},
     "output_type": "display_data"
    }
   ],
   "source": [
    "sns.countplot(Y);\n",
    "# os ponto e virgula serve para não mostrar o aviso chato do seaborn"
   ]
  },
  {
   "cell_type": "code",
   "execution_count": 38,
   "metadata": {},
   "outputs": [
    {
     "data": {
      "image/png": "[encoded data removed]",
      "text/plain": [
       "<Figure size 640x480 with 1 Axes>"
      ]
     },
     "metadata": {},
     "output_type": "display_data"
    }
   ],
   "source": [
    "plt.plot(Y);"
   ]
  },
  {
   "cell_type": "code",
   "execution_count": 39,
   "metadata": {},
   "outputs": [
    {
     "data": {
      "text/plain": [
       "(array([0, 1]), array([160, 109], dtype=int64))"
      ]
     },
     "execution_count": 39,
     "metadata": {},
     "output_type": "execute_result"
    }
   ],
   "source": [
    "np.unique(Y, return_counts=True)"
   ]
  },
  {
   "cell_type": "code",
   "execution_count": null,
   "metadata": {},
   "outputs": [],
   "source": []
  }
 ],
 "metadata": {
  "kernelspec": {
   "display_name": "Python 3",
   "language": "python",
   "name": "python3"
  },
  "language_info": {
   "codemirror_mode": {
    "name": "ipython",
    "version": 3
   },
   "file_extension": ".py",
   "mimetype": "text/x-python",
   "name": "python",
   "nbconvert_exporter": "python",
   "pygments_lexer": "ipython3",
   "version": "3.10.6"
  },
  "orig_nbformat": 4
 },
 "nbformat": 4,
 "nbformat_minor": 2
}
