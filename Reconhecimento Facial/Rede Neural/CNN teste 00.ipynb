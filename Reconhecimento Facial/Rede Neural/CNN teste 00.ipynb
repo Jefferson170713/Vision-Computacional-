{
 "cells": [
  {
   "cell_type": "code",
   "execution_count": null,
   "metadata": {},
   "outputs": [],
   "source": []
  },
  {
   "cell_type": "code",
   "execution_count": 10,
   "metadata": {},
   "outputs": [
    {
     "ename": "NoSuchFile",
     "evalue": "[ONNXRuntimeError] : 3 : NO_SUCHFILE : Load model from caminho/para/openface.onnx failed:Load model caminho/para/openface.onnx failed. File doesn't exist",
     "output_type": "error",
     "traceback": [
      "\u001b[1;31m---------------------------------------------------------------------------\u001b[0m",
      "\u001b[1;31mNoSuchFile\u001b[0m                                Traceback (most recent call last)",
      "Cell \u001b[1;32mIn[10], line 18\u001b[0m\n\u001b[0;32m     10\u001b[0m model_path \u001b[39m=\u001b[39m \u001b[39m\"\u001b[39m\u001b[39mcaminho/para/openface.onnx\u001b[39m\u001b[39m\"\u001b[39m \u001b[39m# substitua pelo caminho correto\u001b[39;00m\n\u001b[0;32m     12\u001b[0m \u001b[39m# Faz o download do modelo pré-treinado e o salva em um arquivo temporário\u001b[39;00m\n\u001b[0;32m     13\u001b[0m \u001b[39m#with tempfile.NamedTemporaryFile(suffix=\".onnx\") as tmp_file:\u001b[39;00m\n\u001b[0;32m     14\u001b[0m \u001b[39m#    urllib.request.urlretrieve(model_url, tmp_file.name)\u001b[39;00m\n\u001b[0;32m     15\u001b[0m \u001b[39m#    model_path = tmp_file.name\u001b[39;00m\n\u001b[0;32m     16\u001b[0m \n\u001b[0;32m     17\u001b[0m \u001b[39m# Carrega o modelo pré-treinado de reconhecimento facial\u001b[39;00m\n\u001b[1;32m---> 18\u001b[0m session \u001b[39m=\u001b[39m ort\u001b[39m.\u001b[39;49mInferenceSession(model_path)\n\u001b[0;32m     20\u001b[0m \u001b[39m# Captura imagens da câmera\u001b[39;00m\n\u001b[0;32m     21\u001b[0m video \u001b[39m=\u001b[39m cv2\u001b[39m.\u001b[39mVideoCapture(\u001b[39m0\u001b[39m)\n",
      "File \u001b[1;32mc:\\Users\\55859\\AppData\\Local\\Programs\\Python\\Python310\\lib\\site-packages\\onnxruntime\\capi\\onnxruntime_inference_collection.py:360\u001b[0m, in \u001b[0;36mInferenceSession.__init__\u001b[1;34m(self, path_or_bytes, sess_options, providers, provider_options, **kwargs)\u001b[0m\n\u001b[0;32m    357\u001b[0m disabled_optimizers \u001b[39m=\u001b[39m kwargs[\u001b[39m\"\u001b[39m\u001b[39mdisabled_optimizers\u001b[39m\u001b[39m\"\u001b[39m] \u001b[39mif\u001b[39;00m \u001b[39m\"\u001b[39m\u001b[39mdisabled_optimizers\u001b[39m\u001b[39m\"\u001b[39m \u001b[39min\u001b[39;00m kwargs \u001b[39melse\u001b[39;00m \u001b[39mNone\u001b[39;00m\n\u001b[0;32m    359\u001b[0m \u001b[39mtry\u001b[39;00m:\n\u001b[1;32m--> 360\u001b[0m     \u001b[39mself\u001b[39;49m\u001b[39m.\u001b[39;49m_create_inference_session(providers, provider_options, disabled_optimizers)\n\u001b[0;32m    361\u001b[0m \u001b[39mexcept\u001b[39;00m \u001b[39mValueError\u001b[39;00m:\n\u001b[0;32m    362\u001b[0m     \u001b[39mif\u001b[39;00m \u001b[39mself\u001b[39m\u001b[39m.\u001b[39m_enable_fallback:\n",
      "File \u001b[1;32mc:\\Users\\55859\\AppData\\Local\\Programs\\Python\\Python310\\lib\\site-packages\\onnxruntime\\capi\\onnxruntime_inference_collection.py:397\u001b[0m, in \u001b[0;36mInferenceSession._create_inference_session\u001b[1;34m(self, providers, provider_options, disabled_optimizers)\u001b[0m\n\u001b[0;32m    395\u001b[0m session_options \u001b[39m=\u001b[39m \u001b[39mself\u001b[39m\u001b[39m.\u001b[39m_sess_options \u001b[39mif\u001b[39;00m \u001b[39mself\u001b[39m\u001b[39m.\u001b[39m_sess_options \u001b[39melse\u001b[39;00m C\u001b[39m.\u001b[39mget_default_session_options()\n\u001b[0;32m    396\u001b[0m \u001b[39mif\u001b[39;00m \u001b[39mself\u001b[39m\u001b[39m.\u001b[39m_model_path:\n\u001b[1;32m--> 397\u001b[0m     sess \u001b[39m=\u001b[39m C\u001b[39m.\u001b[39;49mInferenceSession(session_options, \u001b[39mself\u001b[39;49m\u001b[39m.\u001b[39;49m_model_path, \u001b[39mTrue\u001b[39;49;00m, \u001b[39mself\u001b[39;49m\u001b[39m.\u001b[39;49m_read_config_from_model)\n\u001b[0;32m    398\u001b[0m \u001b[39melse\u001b[39;00m:\n\u001b[0;32m    399\u001b[0m     sess \u001b[39m=\u001b[39m C\u001b[39m.\u001b[39mInferenceSession(session_options, \u001b[39mself\u001b[39m\u001b[39m.\u001b[39m_model_bytes, \u001b[39mFalse\u001b[39;00m, \u001b[39mself\u001b[39m\u001b[39m.\u001b[39m_read_config_from_model)\n",
      "\u001b[1;31mNoSuchFile\u001b[0m: [ONNXRuntimeError] : 3 : NO_SUCHFILE : Load model from caminho/para/openface.onnx failed:Load model caminho/para/openface.onnx failed. File doesn't exist"
     ]
    }
   ],
   "source": [
    "import cv2\n",
    "import numpy as np\n",
    "import onnxruntime as ort\n",
    "import urllib.request\n",
    "\n",
    "# URL do modelo pré-treinado\n",
    "model_url = \"https://github.com/Tencent/ncnn/releases/download/v1.0.0/openface.onnx\"\n",
    "\n",
    "# Caminho para o arquivo do modelo pré-treinado\n",
    "model_path = \"caminho/para/openface.onnx\" # substitua pelo caminho correto\n",
    "\n",
    "# Faz o download do modelo pré-treinado e o salva em um arquivo temporário\n",
    "#with tempfile.NamedTemporaryFile(suffix=\".onnx\") as tmp_file:\n",
    "#    urllib.request.urlretrieve(model_url, tmp_file.name)\n",
    "#    model_path = tmp_file.name\n",
    "\n",
    "# Carrega o modelo pré-treinado de reconhecimento facial\n",
    "session = ort.InferenceSession(model_path)\n",
    "\n",
    "# Captura imagens da câmera\n",
    "video = cv2.VideoCapture(0)\n",
    "\n",
    "# Define o tamanho da janela\n",
    "window_name = \"Face recognition\"\n",
    "cv2.namedWindow(window_name)\n",
    "\n",
    "# Define a região de interesse (ROI) para detecção facial\n",
    "face_cascade = cv2.CascadeClassifier(cv2.data.haarcascades + \"haarcascade_frontalface_default.xml\")\n",
    "\n",
    "# Loop para processar cada frame do vídeo\n",
    "while True:\n",
    "    # Captura um frame do vídeo\n",
    "    ret, frame = video.read()\n",
    "    \n",
    "    # Converte a imagem para escala de cinza\n",
    "    gray = cv2.cvtColor(frame, cv2.COLOR_BGR2GRAY)\n",
    "\n",
    "    # Detecta faces na imagem\n",
    "    faces = face_cascade.detectMultiScale(gray, scaleFactor=1.1, minNeighbors=5, minSize=(30, 30))\n",
    "\n",
    "    # Loop para processar cada face detectada na imagem\n",
    "    for (x, y, w, h) in faces:\n",
    "        # Define a região de interesse (ROI) para a face detectada\n",
    "        roi = gray[y:y+h, x:x+w]\n",
    "        \n",
    "        # Redimensiona a ROI para o tamanho esperado pelo modelo\n",
    "        roi_resized = cv2.resize(roi, (96, 96))\n",
    "        \n",
    "        # Normaliza os valores dos pixels da imagem\n",
    "        roi_norm = roi_resized / 255.0\n",
    "        \n",
    "        # Transforma a imagem em um tensor\n",
    "        roi_tensor = np.expand_dims(np.expand_dims(roi_norm, axis=0), axis=-1).astype(np.float32)\n",
    "        \n",
    "        # Realiza a inferência do modelo na imagem\n",
    "        outputs = session.run(None, {'input_1': roi_tensor})\n",
    "\n",
    "        # Mostra o resultado da inferência na imagem\n",
    "        cv2.rectangle(frame, (x, y), (x+w, y+h), (0, 255, 0), 2)\n",
    "        cv2.putText(frame, \"Face\", (x, y-5), cv2.FONT_HERSHEY_SIMPLEX, 0.5, (0, 255, 0), 2)\n",
    "        cv2.putText(frame, \"OpenFace Embedding: \" + str(outputs[0]), (x, y+h+20), cv2.FONT_HERSHEY_SIMPLEX, 0.5, (0, 255, 0), 2)\n",
    "\n",
    "    # Mostra a imagem na janela\n",
    "    cv2.imshow(window_name, frame)\n",
    "\n",
    "    # Espera por uma tecla\n",
    "    key = cv2.waitKey(1)\n",
    "\n",
    "    # Sai do loop se a tecla 'Esc' for pressionada\n",
    "    if key == 27:\n",
    "        break\n",
    "\n",
    "# Libera a câmera e fecha todas as j\n"
   ]
  },
  {
   "cell_type": "code",
   "execution_count": null,
   "metadata": {},
   "outputs": [],
   "source": []
  }
 ],
 "metadata": {
  "kernelspec": {
   "display_name": "Python 3",
   "language": "python",
   "name": "python3"
  },
  "language_info": {
   "codemirror_mode": {
    "name": "ipython",
    "version": 3
   },
   "file_extension": ".py",
   "mimetype": "text/x-python",
   "name": "python",
   "nbconvert_exporter": "python",
   "pygments_lexer": "ipython3",
   "version": "3.10.6"
  },
  "orig_nbformat": 4
 },
 "nbformat": 4,
 "nbformat_minor": 2
}
